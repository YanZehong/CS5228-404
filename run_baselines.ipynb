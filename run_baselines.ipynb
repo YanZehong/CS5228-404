{
 "cells": [
  {
   "cell_type": "code",
   "execution_count": 1,
   "id": "f0df3912",
   "metadata": {},
   "outputs": [],
   "source": [
    "%matplotlib inline\n",
    "import numpy as np\n",
    "import pandas as pd\n",
    "import torch\n",
    "from torch import nn\n",
    "from d2l import torch as d2l\n",
    "from scipy.stats import skew, norm\n",
    "from scipy.special import boxcox1p\n",
    "from scipy.stats import boxcox_normmax\n",
    "import matplotlib.pyplot as plt\n",
    "import seaborn as sns\n",
    "from sklearn.model_selection import ParameterGrid, KFold, cross_val_score, GridSearchCV\n",
    "from sklearn.preprocessing import LabelEncoder, RobustScaler\n",
    "from sklearn.base import BaseEstimator, TransformerMixin, RegressorMixin, clone\n",
    "from sklearn.metrics import mean_squared_error\n",
    "from sklearn.pipeline import make_pipeline\n",
    "from sklearn.ensemble import RandomForestRegressor, GradientBoostingRegressor\n",
    "from sklearn.linear_model import RidgeCV, ElasticNetCV, LassoCV, Lasso, ElasticNet, Ridge\n",
    "from sklearn.kernel_ridge import KernelRidge\n",
    "from sklearn.svm import SVR\n",
    "import xgboost as xgb\n",
    "import lightgbm as lgb\n",
    "from mlxtend.regressor import StackingCVRegressor"
   ]
  },
  {
   "cell_type": "code",
   "execution_count": 2,
   "id": "1492c8b0",
   "metadata": {},
   "outputs": [],
   "source": [
    "# check missing values\n",
    "def check_nan(df, k):\n",
    "    total_na = df.isnull().sum().sort_values(ascending=False)\n",
    "    percent = ((df.isnull().sum() / df.isnull().count()) * 100).sort_values(ascending=False)\n",
    "    missing_data = pd.concat([total_na, percent], axis=1, keys=['Total', 'Percent'])\n",
    "    missing_data = missing_data.reset_index()\n",
    "    missing_data.columns = ['Name', 'Total', 'Percent']\n",
    "    print(missing_data[:k])"
   ]
  },
  {
   "cell_type": "code",
   "execution_count": 3,
   "id": "91352f95",
   "metadata": {},
   "outputs": [],
   "source": [
    "# add features\n",
    "def concat_features(df_train, df_test):\n",
    "    schools01 = pd.read_csv('data/primary_school_01.csv', sep=',')\n",
    "    schools01_test = pd.read_csv('data/primary_school_01_test.csv', sep=',')\n",
    "    shopping02 = pd.read_csv('data/shopping_02.csv', sep=',')\n",
    "    shopping02_test = pd.read_csv('data/shopping_02_test.csv', sep=',')    \n",
    "    hawker_03 = pd.read_csv('data/hawker_03.csv', sep=',')\n",
    "    hawker_03_test = pd.read_csv('data/hawker_03_test.csv', sep=',')\n",
    "    train_03 = pd.read_csv('data/train_03.csv', sep=',')\n",
    "    train_03_test = pd.read_csv('data/train_03_test.csv', sep=',')\n",
    "    \n",
    "    train_data = pd.concat([df_train[df_train.columns.values[:-1]], schools01, shopping02, hawker_03, train_03, df_train['price']], axis=1)\n",
    "    test_data = pd.concat([df_test, schools01_test, shopping02_test, hawker_03_test, train_03_test], axis=1)\n",
    "    \n",
    "    train_data['bed_bath_ratio'] = train_data['bedrooms']/train_data['bathrooms']\n",
    "    test_data['bed_bath_ratio'] = test_data['bedrooms']/test_data['bathrooms']\n",
    "    return train_data, test_data"
   ]
  },
  {
   "cell_type": "code",
   "execution_count": 8,
   "id": "a418fc08",
   "metadata": {},
   "outputs": [
    {
     "name": "stdout",
     "output_type": "stream",
     "text": [
      "(25714, 16) (7500, 15)\n"
     ]
    }
   ],
   "source": [
    "# read train and test data\n",
    "df_train = pd.read_csv('data/train_data_cleaned.csv', sep=',')\n",
    "df_test = pd.read_csv('data/test_data_cleaned.csv', sep=',')\n",
    "train_len = df_train.shape[0]\n",
    "print(df_train.shape, df_test.shape)"
   ]
  },
  {
   "cell_type": "code",
   "execution_count": 9,
   "id": "88d15caa",
   "metadata": {},
   "outputs": [
    {
     "name": "stdout",
     "output_type": "stream",
     "text": [
      "(25714, 21) (7500, 20)\n"
     ]
    }
   ],
   "source": [
    "train_data, test_data = concat_features(df_train, df_test)\n",
    "print(train_data.shape, test_data.shape)"
   ]
  },
  {
   "cell_type": "code",
   "execution_count": 10,
   "id": "9a800cef",
   "metadata": {},
   "outputs": [
    {
     "data": {
      "text/plain": [
       "(33214, 19)"
      ]
     },
     "execution_count": 10,
     "metadata": {},
     "output_type": "execute_result"
    }
   ],
   "source": [
    "train_labels = train_data.price\n",
    "train_data = train_data.drop(columns = ['price'])\n",
    "all_data = pd.concat([train_data, test_data]).reset_index(drop=True)\n",
    "all_data = all_data.drop(columns=['lng'])\n",
    "all_data.shape"
   ]
  },
  {
   "cell_type": "code",
   "execution_count": 11,
   "id": "ba9c6996",
   "metadata": {},
   "outputs": [
    {
     "name": "stdout",
     "output_type": "stream",
     "text": [
      "(33214, 26)\n"
     ]
    }
   ],
   "source": [
    "# label encoder\n",
    "le_cols = ['name','street','planning_area','subszone','built_year']\n",
    "for c in le_cols:\n",
    "    lbl = LabelEncoder() \n",
    "    lbl.fit(list(all_data[c].values)) \n",
    "    all_data[c] = lbl.transform(list(all_data[c].values))\n",
    "all_data.shape\n",
    "\n",
    "# one-hot encoding\n",
    "all_data = pd.get_dummies(all_data, dummy_na=False)\n",
    "print(all_data.shape)"
   ]
  },
  {
   "cell_type": "code",
   "execution_count": 12,
   "id": "2bf3cb01",
   "metadata": {},
   "outputs": [],
   "source": [
    "# use rmse to simulate the evaluation in the leaderboard and estimate the score\n",
    "def self_evaluation(df_sub):\n",
    "    df_gt = pd.read_csv('submission_0305_1.csv', sep=',')\n",
    "    score = ((df_gt['Predicted'] - df_sub['Predicted']) ** 2).mean() ** .5\n",
    "    df_gt1 = pd.read_csv('submission_0228.csv', sep=',')\n",
    "    score1 = ((df_gt1['Predicted'] - df_sub['Predicted']) ** 2).mean() ** .5\n",
    "    df_gt2 = pd.read_csv('submission_0326_4.csv', sep=',')\n",
    "    score2 = ((df_gt2['Predicted'] - df_sub['Predicted']) ** 2).mean() ** .5\n",
    "    df_gt3 = pd.read_csv('results/submission_rf_0.97630.csv', sep=',')\n",
    "    score3 = ((df_gt3['Predicted'] - df_sub['Predicted']) ** 2).mean() ** .5\n",
    "    print('score-0305: ', score)\n",
    "    print('score-0228: ', score1)\n",
    "    print('score-0326: ', score2)\n",
    "    print('score-best: ', score3)\n",
    "    return score"
   ]
  },
  {
   "cell_type": "code",
   "execution_count": 41,
   "id": "367f959d",
   "metadata": {},
   "outputs": [],
   "source": [
    "# *******************Linear model*******************\n",
    "def get_model():\n",
    "    net = nn.Sequential(nn.Linear(in_features, 64),\n",
    "                        nn.ReLU(),\n",
    "                        nn.Linear(64, 32),\n",
    "                        nn.ReLU(),\n",
    "                        nn.Linear(32, 1),)\n",
    "    return net\n",
    "\n",
    "def log_rmse(net, features, labels):\n",
    "    clipped_preds = torch.clamp(net(features), 1, float('inf'))\n",
    "    rmse = torch.sqrt(loss(torch.log(clipped_preds), torch.log(labels)))\n",
    "    return rmse.item()\n",
    "\n",
    "def train(net, train_features, train_labels, test_features, test_labels,\n",
    "          num_epochs, learning_rate, weight_decay, batch_size):\n",
    "    train_ls, test_ls = [], []\n",
    "    train_iter = d2l.load_array((train_features, train_labels), batch_size)\n",
    "    # Adam optimization\n",
    "    optimizer = torch.optim.Adam(net.parameters(),\n",
    "                                 lr = learning_rate,\n",
    "                                 weight_decay = weight_decay)\n",
    "    \n",
    "    for epoch in range(num_epochs):\n",
    "        for X, y in train_iter:\n",
    "            optimizer.zero_grad()\n",
    "            l = loss(net(X), y)\n",
    "            l.backward()\n",
    "            optimizer.step()\n",
    "        train_ls.append(log_rmse(net, train_features, train_labels))\n",
    "        if test_labels is not None:\n",
    "            test_ls.append(log_rmse(net, test_features, test_labels))\n",
    "    return train_ls, test_ls\n",
    "\n",
    "def get_k_fold_data(k, i, X, y):\n",
    "    assert k > 1\n",
    "    fold_size = X.shape[0] // k\n",
    "    X_train, y_train = None, None\n",
    "    for j in range(k):\n",
    "        idx = slice(j * fold_size, (j + 1) * fold_size)\n",
    "        X_part, y_part = X[idx, :], y[idx]\n",
    "        if j == i:\n",
    "            X_valid, y_valid = X_part, y_part\n",
    "        elif X_train is None:\n",
    "            X_train, y_train = X_part, y_part\n",
    "        else:\n",
    "            X_train = torch.cat([X_train, X_part], 0)\n",
    "            y_train = torch.cat([y_train, y_part], 0)\n",
    "    return X_train, y_train, X_valid, y_valid\n",
    "\n",
    "def k_fold(k, X_train, y_train, num_epochs, learning_rate, weight_decay,\n",
    "           batch_size):\n",
    "    train_l_sum, valid_l_sum = 0, 0\n",
    "    for i in range(k):\n",
    "        data = get_k_fold_data(k, i, X_train, y_train)\n",
    "        net = get_model()\n",
    "        train_ls, valid_ls = train(net, *data, num_epochs, learning_rate,\n",
    "                                   weight_decay, batch_size)\n",
    "        train_l_sum += train_ls[-1]\n",
    "        valid_l_sum += valid_ls[-1]\n",
    "        if i == 0:\n",
    "            d2l.plot(list(range(1, num_epochs + 1)), [train_ls, valid_ls],\n",
    "                     xlabel='epoch', ylabel='rmse', xlim=[1, num_epochs],\n",
    "                     legend=['train', 'valid'], yscale='log')\n",
    "        print(f'fold {i + 1}, train log rmse {float(train_ls[-1]):f}, '\n",
    "              f'valid log rmse {float(valid_ls[-1]):f}')\n",
    "    return train_l_sum / k, valid_l_sum / k\n",
    "\n",
    "def train_and_pred(train_features, test_features, train_labels, test_data,\n",
    "                   num_epochs, lr, weight_decay, batch_size):\n",
    "    net = get_model()\n",
    "    train_ls, _ = train(net, train_features, train_labels, None, None,\n",
    "                        num_epochs, lr, weight_decay, batch_size)\n",
    "    d2l.plot(np.arange(1, num_epochs + 1), [train_ls], xlabel='epoch',\n",
    "             ylabel='log rmse', xlim=[1, num_epochs], yscale='log')\n",
    "    print(f'train log rmse {float(train_ls[-1]):f}')\n",
    "    preds = net(test_features).detach().numpy()\n",
    "    df_id = pd.DataFrame([id for id in range(test_data.shape[0])], columns=['Id'])\n",
    "    test_data['Predicted'] = pd.Series(preds.reshape(1, -1)[0])\n",
    "    submission = pd.concat([df_id['Id'], test_data['Predicted']], axis=1)\n",
    "    return submission, train_ls"
   ]
  },
  {
   "cell_type": "code",
   "execution_count": 14,
   "id": "a734f2d0",
   "metadata": {},
   "outputs": [],
   "source": [
    "# initialization for linear model\n",
    "all_data_linear = all_data.copy()\n",
    "all_data_linear = all_data_linear.drop(columns = ['name', 'street'])\n",
    "numeric_attributes = ['bedrooms','bathrooms','no_of_units','area_size','primary_school_0to1','shopping_0to2','hawker_0to3', 'train_0to3']\n",
    "all_data_linear[numeric_attributes] = all_data_linear[numeric_attributes].apply(lambda x: (x - x.mean()) / (x.std()))\n",
    "train_data_linear = all_data_linear[:train_len]\n",
    "test_data_linear = all_data_linear[train_len:]\n",
    "train_attributes = torch.tensor(train_data_linear.values, dtype=torch.float32)\n",
    "test_attributes = torch.tensor(test_data_linear.values, dtype=torch.float32)\n",
    "train_labels_linear = torch.tensor(train_labels.values.reshape(-1, 1), dtype=torch.float32)\n",
    "loss = nn.MSELoss()\n",
    "in_features = train_attributes.shape[1]"
   ]
  },
  {
   "cell_type": "code",
   "execution_count": 87,
   "id": "e54dee71",
   "metadata": {},
   "outputs": [
    {
     "name": "stdout",
     "output_type": "stream",
     "text": [
      "fold 1, train log rmse 0.165257, valid log rmse 0.170067\n",
      "fold 2, train log rmse 0.174172, valid log rmse 0.174538\n",
      "fold 3, train log rmse 0.172587, valid log rmse 0.171089\n",
      "fold 4, train log rmse 0.189709, valid log rmse 0.197508\n",
      "fold 5, train log rmse 0.168632, valid log rmse 0.181267\n",
      "5-fold cross-validation: average train log rmse: 0.174071, average test log rmse: 0.178894\n"
     ]
    },
    {
     "data": {
      "image/svg+xml": "<?xml version=\"1.0\" encoding=\"utf-8\" standalone=\"no\"?>\n<!DOCTYPE svg PUBLIC \"-//W3C//DTD SVG 1.1//EN\"\n  \"http://www.w3.org/Graphics/SVG/1.1/DTD/svg11.dtd\">\n<!-- Created with matplotlib (https://matplotlib.org/) -->\n<svg height=\"180.65625pt\" version=\"1.1\" viewBox=\"0 0 257.521875 180.65625\" width=\"257.521875pt\" xmlns=\"http://www.w3.org/2000/svg\" xmlns:xlink=\"http://www.w3.org/1999/xlink\">\n <metadata>\n  <rdf:RDF xmlns:cc=\"http://creativecommons.org/ns#\" xmlns:dc=\"http://purl.org/dc/elements/1.1/\" xmlns:rdf=\"http://www.w3.org/1999/02/22-rdf-syntax-ns#\">\n   <cc:Work>\n    <dc:type rdf:resource=\"http://purl.org/dc/dcmitype/StillImage\"/>\n    <dc:date>2022-04-08T20:50:32.425936</dc:date>\n    <dc:format>image/svg+xml</dc:format>\n    <dc:creator>\n     <cc:Agent>\n      <dc:title>Matplotlib v3.3.3, https://matplotlib.org/</dc:title>\n     </cc:Agent>\n    </dc:creator>\n   </cc:Work>\n  </rdf:RDF>\n </metadata>\n <defs>\n  <style type=\"text/css\">*{stroke-linecap:butt;stroke-linejoin:round;}</style>\n </defs>\n <g id=\"figure_1\">\n  <g id=\"patch_1\">\n   <path d=\"M 0 180.65625 \nL 257.521875 180.65625 \nL 257.521875 0 \nL 0 0 \nz\n\" style=\"fill:none;\"/>\n  </g>\n  <g id=\"axes_1\">\n   <g id=\"patch_2\">\n    <path d=\"M 45.478125 143.1 \nL 240.778125 143.1 \nL 240.778125 7.2 \nL 45.478125 7.2 \nz\n\" style=\"fill:#ffffff;\"/>\n   </g>\n   <g id=\"matplotlib.axis_1\">\n    <g id=\"xtick_1\">\n     <g id=\"line2d_1\">\n      <path clip-path=\"url(#pe1ff3fc196)\" d=\"M 77.756422 143.1 \nL 77.756422 7.2 \n\" style=\"fill:none;stroke:#b0b0b0;stroke-linecap:square;stroke-width:0.8;\"/>\n     </g>\n     <g id=\"line2d_2\">\n      <defs>\n       <path d=\"M 0 0 \nL 0 3.5 \n\" id=\"m1353158af0\" style=\"stroke:#000000;stroke-width:0.8;\"/>\n      </defs>\n      <g>\n       <use style=\"stroke:#000000;stroke-width:0.8;\" x=\"77.756422\" xlink:href=\"#m1353158af0\" y=\"143.1\"/>\n      </g>\n     </g>\n     <g id=\"text_1\">\n      <!-- 100 -->\n      <g transform=\"translate(68.212672 157.698438)scale(0.1 -0.1)\">\n       <defs>\n        <path d=\"M 12.40625 8.296875 \nL 28.515625 8.296875 \nL 28.515625 63.921875 \nL 10.984375 60.40625 \nL 10.984375 69.390625 \nL 28.421875 72.90625 \nL 38.28125 72.90625 \nL 38.28125 8.296875 \nL 54.390625 8.296875 \nL 54.390625 0 \nL 12.40625 0 \nz\n\" id=\"DejaVuSans-49\"/>\n        <path d=\"M 31.78125 66.40625 \nQ 24.171875 66.40625 20.328125 58.90625 \nQ 16.5 51.421875 16.5 36.375 \nQ 16.5 21.390625 20.328125 13.890625 \nQ 24.171875 6.390625 31.78125 6.390625 \nQ 39.453125 6.390625 43.28125 13.890625 \nQ 47.125 21.390625 47.125 36.375 \nQ 47.125 51.421875 43.28125 58.90625 \nQ 39.453125 66.40625 31.78125 66.40625 \nz\nM 31.78125 74.21875 \nQ 44.046875 74.21875 50.515625 64.515625 \nQ 56.984375 54.828125 56.984375 36.375 \nQ 56.984375 17.96875 50.515625 8.265625 \nQ 44.046875 -1.421875 31.78125 -1.421875 \nQ 19.53125 -1.421875 13.0625 8.265625 \nQ 6.59375 17.96875 6.59375 36.375 \nQ 6.59375 54.828125 13.0625 64.515625 \nQ 19.53125 74.21875 31.78125 74.21875 \nz\n\" id=\"DejaVuSans-48\"/>\n       </defs>\n       <use xlink:href=\"#DejaVuSans-49\"/>\n       <use x=\"63.623047\" xlink:href=\"#DejaVuSans-48\"/>\n       <use x=\"127.246094\" xlink:href=\"#DejaVuSans-48\"/>\n      </g>\n     </g>\n    </g>\n    <g id=\"xtick_2\">\n     <g id=\"line2d_3\">\n      <path clip-path=\"url(#pe1ff3fc196)\" d=\"M 110.360763 143.1 \nL 110.360763 7.2 \n\" style=\"fill:none;stroke:#b0b0b0;stroke-linecap:square;stroke-width:0.8;\"/>\n     </g>\n     <g id=\"line2d_4\">\n      <g>\n       <use style=\"stroke:#000000;stroke-width:0.8;\" x=\"110.360763\" xlink:href=\"#m1353158af0\" y=\"143.1\"/>\n      </g>\n     </g>\n     <g id=\"text_2\">\n      <!-- 200 -->\n      <g transform=\"translate(100.817013 157.698438)scale(0.1 -0.1)\">\n       <defs>\n        <path d=\"M 19.1875 8.296875 \nL 53.609375 8.296875 \nL 53.609375 0 \nL 7.328125 0 \nL 7.328125 8.296875 \nQ 12.9375 14.109375 22.625 23.890625 \nQ 32.328125 33.6875 34.8125 36.53125 \nQ 39.546875 41.84375 41.421875 45.53125 \nQ 43.3125 49.21875 43.3125 52.78125 \nQ 43.3125 58.59375 39.234375 62.25 \nQ 35.15625 65.921875 28.609375 65.921875 \nQ 23.96875 65.921875 18.8125 64.3125 \nQ 13.671875 62.703125 7.8125 59.421875 \nL 7.8125 69.390625 \nQ 13.765625 71.78125 18.9375 73 \nQ 24.125 74.21875 28.421875 74.21875 \nQ 39.75 74.21875 46.484375 68.546875 \nQ 53.21875 62.890625 53.21875 53.421875 \nQ 53.21875 48.921875 51.53125 44.890625 \nQ 49.859375 40.875 45.40625 35.40625 \nQ 44.1875 33.984375 37.640625 27.21875 \nQ 31.109375 20.453125 19.1875 8.296875 \nz\n\" id=\"DejaVuSans-50\"/>\n       </defs>\n       <use xlink:href=\"#DejaVuSans-50\"/>\n       <use x=\"63.623047\" xlink:href=\"#DejaVuSans-48\"/>\n       <use x=\"127.246094\" xlink:href=\"#DejaVuSans-48\"/>\n      </g>\n     </g>\n    </g>\n    <g id=\"xtick_3\">\n     <g id=\"line2d_5\">\n      <path clip-path=\"url(#pe1ff3fc196)\" d=\"M 142.965103 143.1 \nL 142.965103 7.2 \n\" style=\"fill:none;stroke:#b0b0b0;stroke-linecap:square;stroke-width:0.8;\"/>\n     </g>\n     <g id=\"line2d_6\">\n      <g>\n       <use style=\"stroke:#000000;stroke-width:0.8;\" x=\"142.965103\" xlink:href=\"#m1353158af0\" y=\"143.1\"/>\n      </g>\n     </g>\n     <g id=\"text_3\">\n      <!-- 300 -->\n      <g transform=\"translate(133.421353 157.698438)scale(0.1 -0.1)\">\n       <defs>\n        <path d=\"M 40.578125 39.3125 \nQ 47.65625 37.796875 51.625 33 \nQ 55.609375 28.21875 55.609375 21.1875 \nQ 55.609375 10.40625 48.1875 4.484375 \nQ 40.765625 -1.421875 27.09375 -1.421875 \nQ 22.515625 -1.421875 17.65625 -0.515625 \nQ 12.796875 0.390625 7.625 2.203125 \nL 7.625 11.71875 \nQ 11.71875 9.328125 16.59375 8.109375 \nQ 21.484375 6.890625 26.8125 6.890625 \nQ 36.078125 6.890625 40.9375 10.546875 \nQ 45.796875 14.203125 45.796875 21.1875 \nQ 45.796875 27.640625 41.28125 31.265625 \nQ 36.765625 34.90625 28.71875 34.90625 \nL 20.21875 34.90625 \nL 20.21875 43.015625 \nL 29.109375 43.015625 \nQ 36.375 43.015625 40.234375 45.921875 \nQ 44.09375 48.828125 44.09375 54.296875 \nQ 44.09375 59.90625 40.109375 62.90625 \nQ 36.140625 65.921875 28.71875 65.921875 \nQ 24.65625 65.921875 20.015625 65.03125 \nQ 15.375 64.15625 9.8125 62.3125 \nL 9.8125 71.09375 \nQ 15.4375 72.65625 20.34375 73.4375 \nQ 25.25 74.21875 29.59375 74.21875 \nQ 40.828125 74.21875 47.359375 69.109375 \nQ 53.90625 64.015625 53.90625 55.328125 \nQ 53.90625 49.265625 50.4375 45.09375 \nQ 46.96875 40.921875 40.578125 39.3125 \nz\n\" id=\"DejaVuSans-51\"/>\n       </defs>\n       <use xlink:href=\"#DejaVuSans-51\"/>\n       <use x=\"63.623047\" xlink:href=\"#DejaVuSans-48\"/>\n       <use x=\"127.246094\" xlink:href=\"#DejaVuSans-48\"/>\n      </g>\n     </g>\n    </g>\n    <g id=\"xtick_4\">\n     <g id=\"line2d_7\">\n      <path clip-path=\"url(#pe1ff3fc196)\" d=\"M 175.569444 143.1 \nL 175.569444 7.2 \n\" style=\"fill:none;stroke:#b0b0b0;stroke-linecap:square;stroke-width:0.8;\"/>\n     </g>\n     <g id=\"line2d_8\">\n      <g>\n       <use style=\"stroke:#000000;stroke-width:0.8;\" x=\"175.569444\" xlink:href=\"#m1353158af0\" y=\"143.1\"/>\n      </g>\n     </g>\n     <g id=\"text_4\">\n      <!-- 400 -->\n      <g transform=\"translate(166.025694 157.698438)scale(0.1 -0.1)\">\n       <defs>\n        <path d=\"M 37.796875 64.3125 \nL 12.890625 25.390625 \nL 37.796875 25.390625 \nz\nM 35.203125 72.90625 \nL 47.609375 72.90625 \nL 47.609375 25.390625 \nL 58.015625 25.390625 \nL 58.015625 17.1875 \nL 47.609375 17.1875 \nL 47.609375 0 \nL 37.796875 0 \nL 37.796875 17.1875 \nL 4.890625 17.1875 \nL 4.890625 26.703125 \nz\n\" id=\"DejaVuSans-52\"/>\n       </defs>\n       <use xlink:href=\"#DejaVuSans-52\"/>\n       <use x=\"63.623047\" xlink:href=\"#DejaVuSans-48\"/>\n       <use x=\"127.246094\" xlink:href=\"#DejaVuSans-48\"/>\n      </g>\n     </g>\n    </g>\n    <g id=\"xtick_5\">\n     <g id=\"line2d_9\">\n      <path clip-path=\"url(#pe1ff3fc196)\" d=\"M 208.173784 143.1 \nL 208.173784 7.2 \n\" style=\"fill:none;stroke:#b0b0b0;stroke-linecap:square;stroke-width:0.8;\"/>\n     </g>\n     <g id=\"line2d_10\">\n      <g>\n       <use style=\"stroke:#000000;stroke-width:0.8;\" x=\"208.173784\" xlink:href=\"#m1353158af0\" y=\"143.1\"/>\n      </g>\n     </g>\n     <g id=\"text_5\">\n      <!-- 500 -->\n      <g transform=\"translate(198.630034 157.698438)scale(0.1 -0.1)\">\n       <defs>\n        <path d=\"M 10.796875 72.90625 \nL 49.515625 72.90625 \nL 49.515625 64.59375 \nL 19.828125 64.59375 \nL 19.828125 46.734375 \nQ 21.96875 47.46875 24.109375 47.828125 \nQ 26.265625 48.1875 28.421875 48.1875 \nQ 40.625 48.1875 47.75 41.5 \nQ 54.890625 34.8125 54.890625 23.390625 \nQ 54.890625 11.625 47.5625 5.09375 \nQ 40.234375 -1.421875 26.90625 -1.421875 \nQ 22.3125 -1.421875 17.546875 -0.640625 \nQ 12.796875 0.140625 7.71875 1.703125 \nL 7.71875 11.625 \nQ 12.109375 9.234375 16.796875 8.0625 \nQ 21.484375 6.890625 26.703125 6.890625 \nQ 35.15625 6.890625 40.078125 11.328125 \nQ 45.015625 15.765625 45.015625 23.390625 \nQ 45.015625 31 40.078125 35.4375 \nQ 35.15625 39.890625 26.703125 39.890625 \nQ 22.75 39.890625 18.8125 39.015625 \nQ 14.890625 38.140625 10.796875 36.28125 \nz\n\" id=\"DejaVuSans-53\"/>\n       </defs>\n       <use xlink:href=\"#DejaVuSans-53\"/>\n       <use x=\"63.623047\" xlink:href=\"#DejaVuSans-48\"/>\n       <use x=\"127.246094\" xlink:href=\"#DejaVuSans-48\"/>\n      </g>\n     </g>\n    </g>\n    <g id=\"xtick_6\">\n     <g id=\"line2d_11\">\n      <path clip-path=\"url(#pe1ff3fc196)\" d=\"M 240.778125 143.1 \nL 240.778125 7.2 \n\" style=\"fill:none;stroke:#b0b0b0;stroke-linecap:square;stroke-width:0.8;\"/>\n     </g>\n     <g id=\"line2d_12\">\n      <g>\n       <use style=\"stroke:#000000;stroke-width:0.8;\" x=\"240.778125\" xlink:href=\"#m1353158af0\" y=\"143.1\"/>\n      </g>\n     </g>\n     <g id=\"text_6\">\n      <!-- 600 -->\n      <g transform=\"translate(231.234375 157.698438)scale(0.1 -0.1)\">\n       <defs>\n        <path d=\"M 33.015625 40.375 \nQ 26.375 40.375 22.484375 35.828125 \nQ 18.609375 31.296875 18.609375 23.390625 \nQ 18.609375 15.53125 22.484375 10.953125 \nQ 26.375 6.390625 33.015625 6.390625 \nQ 39.65625 6.390625 43.53125 10.953125 \nQ 47.40625 15.53125 47.40625 23.390625 \nQ 47.40625 31.296875 43.53125 35.828125 \nQ 39.65625 40.375 33.015625 40.375 \nz\nM 52.59375 71.296875 \nL 52.59375 62.3125 \nQ 48.875 64.0625 45.09375 64.984375 \nQ 41.3125 65.921875 37.59375 65.921875 \nQ 27.828125 65.921875 22.671875 59.328125 \nQ 17.53125 52.734375 16.796875 39.40625 \nQ 19.671875 43.65625 24.015625 45.921875 \nQ 28.375 48.1875 33.59375 48.1875 \nQ 44.578125 48.1875 50.953125 41.515625 \nQ 57.328125 34.859375 57.328125 23.390625 \nQ 57.328125 12.15625 50.6875 5.359375 \nQ 44.046875 -1.421875 33.015625 -1.421875 \nQ 20.359375 -1.421875 13.671875 8.265625 \nQ 6.984375 17.96875 6.984375 36.375 \nQ 6.984375 53.65625 15.1875 63.9375 \nQ 23.390625 74.21875 37.203125 74.21875 \nQ 40.921875 74.21875 44.703125 73.484375 \nQ 48.484375 72.75 52.59375 71.296875 \nz\n\" id=\"DejaVuSans-54\"/>\n       </defs>\n       <use xlink:href=\"#DejaVuSans-54\"/>\n       <use x=\"63.623047\" xlink:href=\"#DejaVuSans-48\"/>\n       <use x=\"127.246094\" xlink:href=\"#DejaVuSans-48\"/>\n      </g>\n     </g>\n    </g>\n    <g id=\"text_7\">\n     <!-- epoch -->\n     <g transform=\"translate(127.9 171.376563)scale(0.1 -0.1)\">\n      <defs>\n       <path d=\"M 56.203125 29.59375 \nL 56.203125 25.203125 \nL 14.890625 25.203125 \nQ 15.484375 15.921875 20.484375 11.0625 \nQ 25.484375 6.203125 34.421875 6.203125 \nQ 39.59375 6.203125 44.453125 7.46875 \nQ 49.3125 8.734375 54.109375 11.28125 \nL 54.109375 2.78125 \nQ 49.265625 0.734375 44.1875 -0.34375 \nQ 39.109375 -1.421875 33.890625 -1.421875 \nQ 20.796875 -1.421875 13.15625 6.1875 \nQ 5.515625 13.8125 5.515625 26.8125 \nQ 5.515625 40.234375 12.765625 48.109375 \nQ 20.015625 56 32.328125 56 \nQ 43.359375 56 49.78125 48.890625 \nQ 56.203125 41.796875 56.203125 29.59375 \nz\nM 47.21875 32.234375 \nQ 47.125 39.59375 43.09375 43.984375 \nQ 39.0625 48.390625 32.421875 48.390625 \nQ 24.90625 48.390625 20.390625 44.140625 \nQ 15.875 39.890625 15.1875 32.171875 \nz\n\" id=\"DejaVuSans-101\"/>\n       <path d=\"M 18.109375 8.203125 \nL 18.109375 -20.796875 \nL 9.078125 -20.796875 \nL 9.078125 54.6875 \nL 18.109375 54.6875 \nL 18.109375 46.390625 \nQ 20.953125 51.265625 25.265625 53.625 \nQ 29.59375 56 35.59375 56 \nQ 45.5625 56 51.78125 48.09375 \nQ 58.015625 40.1875 58.015625 27.296875 \nQ 58.015625 14.40625 51.78125 6.484375 \nQ 45.5625 -1.421875 35.59375 -1.421875 \nQ 29.59375 -1.421875 25.265625 0.953125 \nQ 20.953125 3.328125 18.109375 8.203125 \nz\nM 48.6875 27.296875 \nQ 48.6875 37.203125 44.609375 42.84375 \nQ 40.53125 48.484375 33.40625 48.484375 \nQ 26.265625 48.484375 22.1875 42.84375 \nQ 18.109375 37.203125 18.109375 27.296875 \nQ 18.109375 17.390625 22.1875 11.75 \nQ 26.265625 6.109375 33.40625 6.109375 \nQ 40.53125 6.109375 44.609375 11.75 \nQ 48.6875 17.390625 48.6875 27.296875 \nz\n\" id=\"DejaVuSans-112\"/>\n       <path d=\"M 30.609375 48.390625 \nQ 23.390625 48.390625 19.1875 42.75 \nQ 14.984375 37.109375 14.984375 27.296875 \nQ 14.984375 17.484375 19.15625 11.84375 \nQ 23.34375 6.203125 30.609375 6.203125 \nQ 37.796875 6.203125 41.984375 11.859375 \nQ 46.1875 17.53125 46.1875 27.296875 \nQ 46.1875 37.015625 41.984375 42.703125 \nQ 37.796875 48.390625 30.609375 48.390625 \nz\nM 30.609375 56 \nQ 42.328125 56 49.015625 48.375 \nQ 55.71875 40.765625 55.71875 27.296875 \nQ 55.71875 13.875 49.015625 6.21875 \nQ 42.328125 -1.421875 30.609375 -1.421875 \nQ 18.84375 -1.421875 12.171875 6.21875 \nQ 5.515625 13.875 5.515625 27.296875 \nQ 5.515625 40.765625 12.171875 48.375 \nQ 18.84375 56 30.609375 56 \nz\n\" id=\"DejaVuSans-111\"/>\n       <path d=\"M 48.78125 52.59375 \nL 48.78125 44.1875 \nQ 44.96875 46.296875 41.140625 47.34375 \nQ 37.3125 48.390625 33.40625 48.390625 \nQ 24.65625 48.390625 19.8125 42.84375 \nQ 14.984375 37.3125 14.984375 27.296875 \nQ 14.984375 17.28125 19.8125 11.734375 \nQ 24.65625 6.203125 33.40625 6.203125 \nQ 37.3125 6.203125 41.140625 7.25 \nQ 44.96875 8.296875 48.78125 10.40625 \nL 48.78125 2.09375 \nQ 45.015625 0.34375 40.984375 -0.53125 \nQ 36.96875 -1.421875 32.421875 -1.421875 \nQ 20.0625 -1.421875 12.78125 6.34375 \nQ 5.515625 14.109375 5.515625 27.296875 \nQ 5.515625 40.671875 12.859375 48.328125 \nQ 20.21875 56 33.015625 56 \nQ 37.15625 56 41.109375 55.140625 \nQ 45.0625 54.296875 48.78125 52.59375 \nz\n\" id=\"DejaVuSans-99\"/>\n       <path d=\"M 54.890625 33.015625 \nL 54.890625 0 \nL 45.90625 0 \nL 45.90625 32.71875 \nQ 45.90625 40.484375 42.875 44.328125 \nQ 39.84375 48.1875 33.796875 48.1875 \nQ 26.515625 48.1875 22.3125 43.546875 \nQ 18.109375 38.921875 18.109375 30.90625 \nL 18.109375 0 \nL 9.078125 0 \nL 9.078125 75.984375 \nL 18.109375 75.984375 \nL 18.109375 46.1875 \nQ 21.34375 51.125 25.703125 53.5625 \nQ 30.078125 56 35.796875 56 \nQ 45.21875 56 50.046875 50.171875 \nQ 54.890625 44.34375 54.890625 33.015625 \nz\n\" id=\"DejaVuSans-104\"/>\n      </defs>\n      <use xlink:href=\"#DejaVuSans-101\"/>\n      <use x=\"61.523438\" xlink:href=\"#DejaVuSans-112\"/>\n      <use x=\"125\" xlink:href=\"#DejaVuSans-111\"/>\n      <use x=\"186.181641\" xlink:href=\"#DejaVuSans-99\"/>\n      <use x=\"241.162109\" xlink:href=\"#DejaVuSans-104\"/>\n     </g>\n    </g>\n   </g>\n   <g id=\"matplotlib.axis_2\">\n    <g id=\"ytick_1\">\n     <g id=\"line2d_13\">\n      <path clip-path=\"url(#pe1ff3fc196)\" d=\"M 45.478125 37.017352 \nL 240.778125 37.017352 \n\" style=\"fill:none;stroke:#b0b0b0;stroke-linecap:square;stroke-width:0.8;\"/>\n     </g>\n     <g id=\"line2d_14\">\n      <defs>\n       <path d=\"M 0 0 \nL -3.5 0 \n\" id=\"mf96b5e0f12\" style=\"stroke:#000000;stroke-width:0.8;\"/>\n      </defs>\n      <g>\n       <use style=\"stroke:#000000;stroke-width:0.8;\" x=\"45.478125\" xlink:href=\"#mf96b5e0f12\" y=\"37.017352\"/>\n      </g>\n     </g>\n     <g id=\"text_8\">\n      <!-- $\\mathdefault{10^{0}}$ -->\n      <g transform=\"translate(20.878125 40.816571)scale(0.1 -0.1)\">\n       <use transform=\"translate(0 0.765625)\" xlink:href=\"#DejaVuSans-49\"/>\n       <use transform=\"translate(63.623047 0.765625)\" xlink:href=\"#DejaVuSans-48\"/>\n       <use transform=\"translate(128.203125 39.046875)scale(0.7)\" xlink:href=\"#DejaVuSans-48\"/>\n      </g>\n     </g>\n    </g>\n    <g id=\"ytick_2\">\n     <g id=\"line2d_15\">\n      <defs>\n       <path d=\"M 0 0 \nL -2 0 \n\" id=\"mc3644ddc50\" style=\"stroke:#000000;stroke-width:0.6;\"/>\n      </defs>\n      <g>\n       <use style=\"stroke:#000000;stroke-width:0.6;\" x=\"45.478125\" xlink:href=\"#mc3644ddc50\" y=\"125.72544\"/>\n      </g>\n     </g>\n    </g>\n    <g id=\"ytick_3\">\n     <g id=\"line2d_16\">\n      <g>\n       <use style=\"stroke:#000000;stroke-width:0.6;\" x=\"45.478125\" xlink:href=\"#mc3644ddc50\" y=\"103.377244\"/>\n      </g>\n     </g>\n    </g>\n    <g id=\"ytick_4\">\n     <g id=\"line2d_17\">\n      <g>\n       <use style=\"stroke:#000000;stroke-width:0.6;\" x=\"45.478125\" xlink:href=\"#mc3644ddc50\" y=\"87.520946\"/>\n      </g>\n     </g>\n    </g>\n    <g id=\"ytick_5\">\n     <g id=\"line2d_18\">\n      <g>\n       <use style=\"stroke:#000000;stroke-width:0.6;\" x=\"45.478125\" xlink:href=\"#mc3644ddc50\" y=\"75.221846\"/>\n      </g>\n     </g>\n    </g>\n    <g id=\"ytick_6\">\n     <g id=\"line2d_19\">\n      <g>\n       <use style=\"stroke:#000000;stroke-width:0.6;\" x=\"45.478125\" xlink:href=\"#mc3644ddc50\" y=\"65.17275\"/>\n      </g>\n     </g>\n    </g>\n    <g id=\"ytick_7\">\n     <g id=\"line2d_20\">\n      <g>\n       <use style=\"stroke:#000000;stroke-width:0.6;\" x=\"45.478125\" xlink:href=\"#mc3644ddc50\" y=\"56.67636\"/>\n      </g>\n     </g>\n    </g>\n    <g id=\"ytick_8\">\n     <g id=\"line2d_21\">\n      <g>\n       <use style=\"stroke:#000000;stroke-width:0.6;\" x=\"45.478125\" xlink:href=\"#mc3644ddc50\" y=\"49.316452\"/>\n      </g>\n     </g>\n    </g>\n    <g id=\"ytick_9\">\n     <g id=\"line2d_22\">\n      <g>\n       <use style=\"stroke:#000000;stroke-width:0.6;\" x=\"45.478125\" xlink:href=\"#mc3644ddc50\" y=\"42.824553\"/>\n      </g>\n     </g>\n    </g>\n    <g id=\"text_9\">\n     <!-- rmse -->\n     <g transform=\"translate(14.798437 87.669531)rotate(-90)scale(0.1 -0.1)\">\n      <defs>\n       <path d=\"M 41.109375 46.296875 \nQ 39.59375 47.171875 37.8125 47.578125 \nQ 36.03125 48 33.890625 48 \nQ 26.265625 48 22.1875 43.046875 \nQ 18.109375 38.09375 18.109375 28.8125 \nL 18.109375 0 \nL 9.078125 0 \nL 9.078125 54.6875 \nL 18.109375 54.6875 \nL 18.109375 46.1875 \nQ 20.953125 51.171875 25.484375 53.578125 \nQ 30.03125 56 36.53125 56 \nQ 37.453125 56 38.578125 55.875 \nQ 39.703125 55.765625 41.0625 55.515625 \nz\n\" id=\"DejaVuSans-114\"/>\n       <path d=\"M 52 44.1875 \nQ 55.375 50.25 60.0625 53.125 \nQ 64.75 56 71.09375 56 \nQ 79.640625 56 84.28125 50.015625 \nQ 88.921875 44.046875 88.921875 33.015625 \nL 88.921875 0 \nL 79.890625 0 \nL 79.890625 32.71875 \nQ 79.890625 40.578125 77.09375 44.375 \nQ 74.3125 48.1875 68.609375 48.1875 \nQ 61.625 48.1875 57.5625 43.546875 \nQ 53.515625 38.921875 53.515625 30.90625 \nL 53.515625 0 \nL 44.484375 0 \nL 44.484375 32.71875 \nQ 44.484375 40.625 41.703125 44.40625 \nQ 38.921875 48.1875 33.109375 48.1875 \nQ 26.21875 48.1875 22.15625 43.53125 \nQ 18.109375 38.875 18.109375 30.90625 \nL 18.109375 0 \nL 9.078125 0 \nL 9.078125 54.6875 \nL 18.109375 54.6875 \nL 18.109375 46.1875 \nQ 21.1875 51.21875 25.484375 53.609375 \nQ 29.78125 56 35.6875 56 \nQ 41.65625 56 45.828125 52.96875 \nQ 50 49.953125 52 44.1875 \nz\n\" id=\"DejaVuSans-109\"/>\n       <path d=\"M 44.28125 53.078125 \nL 44.28125 44.578125 \nQ 40.484375 46.53125 36.375 47.5 \nQ 32.28125 48.484375 27.875 48.484375 \nQ 21.1875 48.484375 17.84375 46.4375 \nQ 14.5 44.390625 14.5 40.28125 \nQ 14.5 37.15625 16.890625 35.375 \nQ 19.28125 33.59375 26.515625 31.984375 \nL 29.59375 31.296875 \nQ 39.15625 29.25 43.1875 25.515625 \nQ 47.21875 21.78125 47.21875 15.09375 \nQ 47.21875 7.46875 41.1875 3.015625 \nQ 35.15625 -1.421875 24.609375 -1.421875 \nQ 20.21875 -1.421875 15.453125 -0.5625 \nQ 10.6875 0.296875 5.421875 2 \nL 5.421875 11.28125 \nQ 10.40625 8.6875 15.234375 7.390625 \nQ 20.0625 6.109375 24.8125 6.109375 \nQ 31.15625 6.109375 34.5625 8.28125 \nQ 37.984375 10.453125 37.984375 14.40625 \nQ 37.984375 18.0625 35.515625 20.015625 \nQ 33.0625 21.96875 24.703125 23.78125 \nL 21.578125 24.515625 \nQ 13.234375 26.265625 9.515625 29.90625 \nQ 5.8125 33.546875 5.8125 39.890625 \nQ 5.8125 47.609375 11.28125 51.796875 \nQ 16.75 56 26.8125 56 \nQ 31.78125 56 36.171875 55.265625 \nQ 40.578125 54.546875 44.28125 53.078125 \nz\n\" id=\"DejaVuSans-115\"/>\n      </defs>\n      <use xlink:href=\"#DejaVuSans-114\"/>\n      <use x=\"39.363281\" xlink:href=\"#DejaVuSans-109\"/>\n      <use x=\"136.775391\" xlink:href=\"#DejaVuSans-115\"/>\n      <use x=\"188.875\" xlink:href=\"#DejaVuSans-101\"/>\n     </g>\n    </g>\n   </g>\n   <g id=\"line2d_23\">\n    <path clip-path=\"url(#pe1ff3fc196)\" d=\"M 45.478125 48.537811 \nL 45.804168 48.545161 \nL 46.130212 13.377273 \nL 46.456255 20.670786 \nL 46.782299 57.565357 \nL 47.108342 75.314042 \nL 47.434385 79.979709 \nL 47.760429 78.383621 \nL 48.086472 81.867053 \nL 48.412516 89.847453 \nL 48.738559 94.184393 \nL 49.064602 96.145177 \nL 49.716689 102.331723 \nL 50.042733 103.512475 \nL 50.368776 104.17013 \nL 50.694819 107.75123 \nL 51.020863 108.432406 \nL 51.346906 109.883056 \nL 51.67295 110.731466 \nL 51.998993 111.004363 \nL 52.325037 112.238337 \nL 52.65108 112.942626 \nL 52.977123 112.028194 \nL 53.955254 114.680034 \nL 54.281297 115.718183 \nL 54.60734 115.076902 \nL 54.933384 108.497499 \nL 55.259427 113.456642 \nL 55.585471 116.599378 \nL 55.911514 117.405536 \nL 56.563601 112.965869 \nL 56.889644 117.87889 \nL 57.215688 116.13547 \nL 57.541731 119.034502 \nL 57.867774 115.097786 \nL 58.193818 113.652167 \nL 58.519861 113.489877 \nL 59.171948 119.763785 \nL 59.497991 117.759519 \nL 59.824035 120.307983 \nL 60.150078 120.287664 \nL 60.476122 119.642501 \nL 60.802165 119.963854 \nL 61.128208 118.713549 \nL 61.454252 120.574207 \nL 61.780295 121.633546 \nL 62.106339 115.667479 \nL 62.432382 121.853162 \nL 62.758426 119.052462 \nL 63.084469 121.564297 \nL 63.410512 121.586536 \nL 63.736556 121.208169 \nL 64.062599 122.493701 \nL 64.388643 117.734583 \nL 64.714686 120.799567 \nL 65.040729 121.200296 \nL 65.366773 117.756601 \nL 65.692816 120.630664 \nL 66.01886 121.290285 \nL 66.344903 122.296639 \nL 66.670946 119.498558 \nL 66.99699 119.790726 \nL 67.323033 122.356569 \nL 67.649077 122.4679 \nL 67.97512 121.246266 \nL 68.301163 123.031024 \nL 68.627207 123.671079 \nL 68.95325 123.784952 \nL 69.279294 120.179845 \nL 69.605337 120.099662 \nL 69.93138 120.448032 \nL 70.257424 122.932346 \nL 70.583467 123.538752 \nL 70.909511 122.445786 \nL 71.235554 115.979888 \nL 71.561597 121.640421 \nL 71.887641 120.537749 \nL 72.213684 124.199075 \nL 72.539728 122.397854 \nL 72.865771 121.776901 \nL 73.191814 109.604919 \nL 73.517858 123.84987 \nL 73.843901 120.54167 \nL 74.169945 121.886357 \nL 74.495988 117.655869 \nL 74.822032 122.445523 \nL 75.148075 120.625775 \nL 75.474118 122.983648 \nL 75.800162 124.037678 \nL 76.126205 123.073573 \nL 76.452249 124.229273 \nL 76.778292 117.275247 \nL 77.104335 123.369964 \nL 77.430379 123.465303 \nL 77.756422 120.175445 \nL 78.408509 125.152595 \nL 78.734552 122.386999 \nL 79.060596 124.472297 \nL 79.386639 123.313163 \nL 79.712683 124.962321 \nL 80.038726 123.757188 \nL 80.690813 123.225217 \nL 81.016856 124.799509 \nL 81.3429 124.126189 \nL 81.668943 113.695672 \nL 81.994986 123.865832 \nL 82.32103 125.154989 \nL 82.647073 122.268962 \nL 82.973117 124.586038 \nL 83.29916 125.270882 \nL 83.951247 125.742509 \nL 84.27729 125.048246 \nL 84.603334 120.664183 \nL 84.929377 125.861316 \nL 85.25542 124.137519 \nL 85.581464 125.040163 \nL 85.907507 124.059113 \nL 86.233551 121.577695 \nL 86.559594 124.86421 \nL 86.885638 126.494208 \nL 87.211681 126.983956 \nL 87.537724 118.618584 \nL 87.863768 126.239346 \nL 88.189811 123.390373 \nL 88.515855 122.796926 \nL 88.841898 126.517711 \nL 89.167941 125.623358 \nL 89.493985 120.711102 \nL 89.820028 126.785495 \nL 90.146072 126.922272 \nL 90.472115 119.652431 \nL 90.798158 125.849326 \nL 91.124202 126.805572 \nL 91.450245 120.563167 \nL 91.776289 125.675424 \nL 92.102332 126.725186 \nL 92.428375 121.01137 \nL 92.754419 126.503457 \nL 93.080462 124.282573 \nL 93.406506 119.229918 \nL 93.732549 126.22501 \nL 94.058592 124.59894 \nL 94.384636 125.498759 \nL 94.710679 126.758977 \nL 95.036723 126.717902 \nL 95.362766 127.138385 \nL 95.688809 124.900377 \nL 96.014853 126.471484 \nL 96.340896 123.23057 \nL 96.66694 128.023751 \nL 96.992983 128.26578 \nL 97.319027 122.543496 \nL 97.64507 126.434853 \nL 97.971113 127.754295 \nL 98.297157 118.132246 \nL 98.6232 128.460051 \nL 98.949244 126.622319 \nL 99.275287 123.979688 \nL 99.60133 127.533675 \nL 99.927374 123.486876 \nL 100.253417 127.301382 \nL 100.579461 128.004531 \nL 100.905504 125.038447 \nL 101.231547 124.115886 \nL 101.557591 125.858171 \nL 101.883634 126.340898 \nL 102.209678 126.618225 \nL 102.535721 128.356732 \nL 102.861764 127.451941 \nL 103.187808 128.569362 \nL 103.513851 128.432853 \nL 103.839895 126.884171 \nL 104.165938 129.014513 \nL 104.491981 128.511757 \nL 104.818025 125.614358 \nL 105.144068 127.179774 \nL 105.470112 128.0817 \nL 105.796155 124.956939 \nL 106.122198 125.876324 \nL 106.774285 128.798891 \nL 107.100329 128.811007 \nL 107.426372 129.411153 \nL 108.078459 128.854428 \nL 108.404502 124.998659 \nL 108.730546 127.933491 \nL 109.056589 125.420901 \nL 109.382633 128.281418 \nL 109.708676 129.061594 \nL 110.034719 128.977186 \nL 110.360763 129.334271 \nL 110.686806 127.895193 \nL 111.01285 129.371543 \nL 111.338893 123.543165 \nL 111.664936 128.494624 \nL 111.99098 130.322028 \nL 112.317023 128.931709 \nL 112.643067 129.738518 \nL 112.96911 126.516291 \nL 113.295153 128.223245 \nL 113.621197 128.724431 \nL 113.94724 127.99251 \nL 114.273284 129.843024 \nL 114.599327 125.406103 \nL 114.92537 129.191812 \nL 115.251414 129.193469 \nL 115.577457 125.025774 \nL 115.903501 130.032039 \nL 116.229544 131.000419 \nL 116.881631 126.724822 \nL 117.207674 130.650199 \nL 117.533718 129.379678 \nL 117.859761 130.936792 \nL 118.185804 126.544093 \nL 118.511848 131.030397 \nL 118.837891 126.269883 \nL 119.489978 129.397566 \nL 119.816021 129.815113 \nL 120.142065 128.662853 \nL 120.794152 130.775785 \nL 121.120195 130.821369 \nL 121.446239 131.741429 \nL 121.772282 129.826539 \nL 122.098325 129.334767 \nL 122.424369 124.775455 \nL 122.750412 131.890711 \nL 123.076456 129.710824 \nL 123.402499 132.353247 \nL 123.728542 130.014019 \nL 124.054586 131.6653 \nL 124.380629 127.651563 \nL 124.706673 130.370794 \nL 125.032716 131.164957 \nL 125.358759 128.055652 \nL 125.684803 131.325251 \nL 126.010846 132.513792 \nL 126.33689 132.220225 \nL 126.662933 132.422727 \nL 126.988976 131.659038 \nL 127.31502 130.493568 \nL 127.641063 131.596255 \nL 127.967107 128.513148 \nL 128.29315 132.62943 \nL 128.619193 132.077735 \nL 128.945237 128.058626 \nL 129.597324 132.897279 \nL 129.923367 131.711927 \nL 130.24941 127.77605 \nL 130.575454 132.193135 \nL 130.901497 132.833454 \nL 131.227541 132.340387 \nL 131.553584 132.280135 \nL 131.879628 131.871503 \nL 132.205671 132.858505 \nL 132.531714 132.590694 \nL 132.857758 131.183943 \nL 133.183801 132.829132 \nL 133.509845 131.637424 \nL 134.161931 133.253698 \nL 134.487975 130.272138 \nL 134.814018 130.793386 \nL 135.140062 133.165629 \nL 135.466105 133.442116 \nL 135.792148 128.241321 \nL 136.118192 131.638078 \nL 136.444235 132.355081 \nL 136.770279 131.680807 \nL 137.096322 131.759565 \nL 137.422365 132.718371 \nL 137.748409 126.874932 \nL 138.074452 130.693849 \nL 138.400496 132.568526 \nL 138.726539 127.370024 \nL 139.052582 129.452704 \nL 139.378626 129.022395 \nL 139.704669 133.117094 \nL 140.356756 131.252718 \nL 140.682799 131.549597 \nL 141.008843 130.703296 \nL 141.334886 126.073277 \nL 141.66093 133.123175 \nL 141.986973 131.406388 \nL 142.313016 132.076145 \nL 142.965103 134.061907 \nL 143.291147 130.15544 \nL 143.61719 132.178119 \nL 143.943234 131.510975 \nL 144.269277 133.652073 \nL 144.59532 133.786427 \nL 144.921364 129.566112 \nL 145.247407 128.734228 \nL 145.573451 132.656191 \nL 145.899494 133.56442 \nL 146.225537 132.924994 \nL 146.551581 129.256226 \nL 146.877624 133.498612 \nL 147.203668 134.357355 \nL 147.529711 133.904054 \nL 147.855754 134.354963 \nL 148.181798 132.463062 \nL 148.507841 131.788863 \nL 148.833885 134.201495 \nL 149.485971 132.070948 \nL 149.812015 130.474559 \nL 150.138058 130.719592 \nL 150.464102 134.030879 \nL 150.790145 133.411231 \nL 151.442232 134.355588 \nL 151.768275 133.574155 \nL 152.094319 128.432961 \nL 153.072449 133.520736 \nL 153.398492 133.556718 \nL 153.724536 133.046756 \nL 154.050579 134.152953 \nL 154.376622 133.264489 \nL 154.702666 131.788684 \nL 155.028709 131.503171 \nL 155.354753 133.099538 \nL 155.680796 128.760273 \nL 156.00684 133.336831 \nL 156.332883 132.649285 \nL 156.658926 134.171508 \nL 156.98497 134.717456 \nL 157.311013 132.933245 \nL 157.637057 133.203407 \nL 157.9631 133.028459 \nL 158.289143 132.230705 \nL 158.615187 135.621427 \nL 158.94123 135.035719 \nL 159.267274 135.296349 \nL 159.593317 132.896826 \nL 159.91936 134.972303 \nL 160.245404 133.210114 \nL 160.571447 132.613821 \nL 160.897491 135.346691 \nL 161.549577 130.722092 \nL 161.875621 130.549365 \nL 162.201664 132.120774 \nL 162.527708 135.179825 \nL 162.853751 133.841455 \nL 163.179794 135.893055 \nL 163.505838 129.366546 \nL 163.831881 130.336033 \nL 164.157925 134.221374 \nL 164.483968 134.379342 \nL 165.136055 135.566287 \nL 165.462098 132.323077 \nL 165.788142 134.036341 \nL 166.114185 134.764712 \nL 166.440229 132.091349 \nL 166.766272 134.462156 \nL 167.092315 131.004716 \nL 167.418359 134.840403 \nL 167.744402 134.677771 \nL 168.070446 131.392046 \nL 168.722532 135.086748 \nL 169.048576 133.237201 \nL 169.374619 133.023316 \nL 169.700663 135.410446 \nL 170.026706 134.834725 \nL 170.352749 135.397338 \nL 170.678793 134.920972 \nL 171.004836 134.802111 \nL 171.33088 129.440288 \nL 171.656923 135.354167 \nL 171.982966 134.822353 \nL 172.30901 133.694058 \nL 172.635053 134.342502 \nL 172.961097 133.039351 \nL 173.28714 134.259873 \nL 173.613183 134.547176 \nL 173.939227 131.501566 \nL 174.26527 132.348676 \nL 174.591314 135.098867 \nL 174.917357 133.769788 \nL 175.2434 134.42981 \nL 175.569444 134.639809 \nL 175.895487 134.006559 \nL 176.221531 134.321442 \nL 176.547574 133.512771 \nL 176.873617 133.392516 \nL 177.199661 133.662178 \nL 177.525704 132.045381 \nL 177.851748 132.004923 \nL 178.177791 134.252725 \nL 178.503835 134.284406 \nL 178.829878 135.738549 \nL 179.155921 131.198122 \nL 179.481965 133.26479 \nL 179.808008 134.367946 \nL 180.134052 133.895619 \nL 180.460095 135.658777 \nL 180.786138 134.06582 \nL 181.112182 135.221293 \nL 181.438225 132.199129 \nL 181.764269 130.435036 \nL 182.090312 134.961852 \nL 182.416355 134.593538 \nL 182.742399 133.042033 \nL 183.068442 135.70731 \nL 183.394486 135.014052 \nL 183.720529 130.757826 \nL 184.046572 134.198669 \nL 184.372616 134.38864 \nL 184.698659 134.909236 \nL 185.024703 135.183126 \nL 185.350746 133.867692 \nL 185.676789 135.171027 \nL 186.002833 133.809443 \nL 186.328876 133.318282 \nL 186.65492 130.107665 \nL 186.980963 134.85527 \nL 187.307006 131.299515 \nL 187.63305 134.488228 \nL 187.959093 135.066851 \nL 188.285137 133.56844 \nL 188.61118 134.8229 \nL 188.937223 132.05744 \nL 189.263267 135.31714 \nL 189.58931 135.065844 \nL 189.915354 134.107227 \nL 190.241397 135.277016 \nL 190.567441 131.004762 \nL 190.893484 134.667908 \nL 191.219527 134.119062 \nL 191.545571 134.686569 \nL 191.871614 135.677157 \nL 192.197658 135.372833 \nL 192.523701 135.377916 \nL 192.849744 135.688906 \nL 193.175788 132.425519 \nL 193.501831 133.572152 \nL 193.827875 134.256363 \nL 194.153918 131.6034 \nL 194.479961 132.374916 \nL 194.806005 134.927193 \nL 195.132048 135.373185 \nL 195.458092 134.025203 \nL 195.784135 133.494356 \nL 196.110178 135.966049 \nL 196.436222 129.044813 \nL 196.762265 134.919196 \nL 197.088309 135.763774 \nL 197.414352 129.669788 \nL 197.740395 133.744528 \nL 198.066439 135.467287 \nL 198.392482 134.602699 \nL 198.718526 134.714188 \nL 199.044569 132.529452 \nL 199.370612 134.903056 \nL 199.696656 135.793915 \nL 200.022699 134.822765 \nL 200.348743 132.647758 \nL 200.674786 134.718466 \nL 201.00083 134.907519 \nL 201.326873 135.714699 \nL 201.652916 135.649681 \nL 201.97896 135.983652 \nL 202.305003 134.383445 \nL 202.631047 135.939214 \nL 203.283133 134.407159 \nL 203.609177 135.876281 \nL 203.93522 132.686837 \nL 204.261264 135.497213 \nL 204.587307 131.433546 \nL 204.91335 135.360584 \nL 205.239394 134.598835 \nL 205.565437 130.65429 \nL 205.891481 132.67771 \nL 206.217524 135.691282 \nL 206.543567 133.604837 \nL 206.869611 135.060926 \nL 207.195654 133.393337 \nL 207.521698 135.186821 \nL 207.847741 135.726888 \nL 208.173784 134.902484 \nL 208.499828 132.595499 \nL 208.825871 134.355717 \nL 209.151915 135.027147 \nL 209.477958 132.26345 \nL 209.804001 135.29522 \nL 210.130045 133.223507 \nL 210.456088 135.248904 \nL 210.782132 135.531707 \nL 211.108175 134.632496 \nL 211.434218 135.632372 \nL 211.760262 133.037719 \nL 212.086305 134.664986 \nL 212.412349 134.697407 \nL 212.738392 135.673547 \nL 213.064436 135.760783 \nL 213.390479 135.092384 \nL 213.716522 130.206503 \nL 214.042566 134.9314 \nL 214.368609 135.383503 \nL 214.694653 134.193986 \nL 215.020696 135.799791 \nL 215.346739 134.798712 \nL 215.672783 136.650636 \nL 215.998826 134.75761 \nL 216.32487 130.224979 \nL 216.650913 135.01552 \nL 216.976956 133.333917 \nL 217.303 133.85843 \nL 217.629043 136.14743 \nL 217.955087 132.098868 \nL 218.28113 134.53166 \nL 218.607173 135.523608 \nL 218.933217 131.33849 \nL 219.25926 130.760652 \nL 219.585304 135.614557 \nL 219.911347 135.2608 \nL 220.889477 135.478667 \nL 221.215521 124.606367 \nL 221.541564 134.689328 \nL 221.867607 136.652844 \nL 222.193651 134.649707 \nL 222.845738 132.961873 \nL 223.171781 135.514543 \nL 223.497824 134.624108 \nL 223.823868 135.109573 \nL 224.149911 136.408467 \nL 224.475955 136.046064 \nL 224.801998 135.290242 \nL 225.128042 135.862134 \nL 225.454085 135.84159 \nL 225.780128 135.696503 \nL 226.106172 134.949884 \nL 226.432215 131.704841 \nL 226.758259 135.193911 \nL 227.084302 133.605405 \nL 227.410345 130.075918 \nL 227.736389 135.592082 \nL 228.388476 133.827516 \nL 228.714519 135.626533 \nL 229.040562 133.44264 \nL 229.366606 135.353507 \nL 229.692649 129.151179 \nL 230.018693 131.91792 \nL 230.344736 136.380773 \nL 230.996823 134.934317 \nL 231.322866 127.553411 \nL 231.64891 135.679302 \nL 231.974953 133.86556 \nL 232.62704 136.125356 \nL 232.953083 135.049476 \nL 233.279127 132.546683 \nL 233.60517 135.503401 \nL 233.931213 134.979069 \nL 234.257257 136.922727 \nL 234.5833 135.473952 \nL 234.909344 125.817396 \nL 235.235387 135.022772 \nL 235.561431 136.406389 \nL 235.887474 134.197678 \nL 236.213517 133.425656 \nL 236.539561 134.245952 \nL 236.865604 136.381486 \nL 237.191648 136.68075 \nL 237.517691 134.561959 \nL 237.843734 124.81669 \nL 238.169778 135.690249 \nL 238.821865 136.306506 \nL 239.147908 136.91264 \nL 239.799995 133.646843 \nL 240.126038 126.19695 \nL 240.452082 134.7845 \nL 240.778125 136.242631 \nL 240.778125 136.242631 \n\" style=\"fill:none;stroke:#1f77b4;stroke-linecap:square;stroke-width:1.5;\"/>\n   </g>\n   <g id=\"line2d_24\">\n    <path clip-path=\"url(#pe1ff3fc196)\" d=\"M 45.478125 49.391981 \nL 45.804168 49.688337 \nL 46.130212 15.837627 \nL 46.456255 23.52032 \nL 46.782299 59.691706 \nL 47.108342 77.350959 \nL 47.434385 82.315074 \nL 47.760429 80.608538 \nL 48.086472 83.96963 \nL 48.412516 91.671821 \nL 48.738559 95.649543 \nL 49.064602 97.479073 \nL 49.716689 103.403919 \nL 50.042733 104.417454 \nL 50.368776 104.849357 \nL 50.694819 108.542449 \nL 51.020863 109.152421 \nL 51.346906 110.602804 \nL 51.67295 111.381018 \nL 51.998993 111.627973 \nL 52.325037 112.755471 \nL 52.65108 113.409864 \nL 52.977123 112.426232 \nL 53.955254 114.994073 \nL 54.281297 116.023879 \nL 54.60734 115.292856 \nL 54.933384 108.710876 \nL 55.259427 113.629424 \nL 55.585471 116.667547 \nL 55.911514 117.507951 \nL 56.563601 112.848072 \nL 56.889644 117.867683 \nL 57.215688 116.0586 \nL 57.541731 119.043261 \nL 57.867774 114.890724 \nL 58.193818 113.326801 \nL 58.519861 113.173778 \nL 59.171948 119.590449 \nL 59.497991 117.450955 \nL 59.824035 120.18871 \nL 60.150078 120.171683 \nL 60.476122 119.62812 \nL 60.802165 119.802102 \nL 61.128208 118.405834 \nL 61.454252 120.528499 \nL 61.780295 121.502677 \nL 62.106339 115.429699 \nL 62.432382 121.641332 \nL 62.758426 118.685377 \nL 63.084469 121.433219 \nL 63.410512 121.423803 \nL 63.736556 120.834117 \nL 64.062599 122.239665 \nL 64.388643 117.840445 \nL 64.714686 120.763714 \nL 65.040729 120.765962 \nL 65.366773 117.234267 \nL 65.692816 120.364906 \nL 66.01886 120.921816 \nL 66.344903 122.025548 \nL 66.670946 119.498158 \nL 66.99699 119.205771 \nL 67.323033 122.118219 \nL 67.649077 122.340767 \nL 67.97512 120.98828 \nL 68.301163 122.480969 \nL 68.627207 123.168177 \nL 68.95325 123.27462 \nL 69.279294 119.495396 \nL 69.605337 119.930976 \nL 69.93138 119.873713 \nL 70.257424 122.647799 \nL 70.583467 123.159772 \nL 70.909511 121.910635 \nL 71.235554 115.315449 \nL 71.561597 121.436107 \nL 71.887641 120.385917 \nL 72.213684 123.529383 \nL 72.539728 121.737465 \nL 72.865771 121.344176 \nL 73.191814 109.495233 \nL 73.517858 123.229561 \nL 73.843901 120.357212 \nL 74.169945 121.321557 \nL 74.495988 117.463559 \nL 74.822032 121.691965 \nL 75.148075 119.917595 \nL 75.474118 122.303222 \nL 75.800162 123.523823 \nL 76.126205 122.365219 \nL 76.452249 123.634416 \nL 76.778292 117.059886 \nL 77.104335 122.56891 \nL 77.430379 122.800552 \nL 77.756422 119.791924 \nL 78.408509 124.334411 \nL 78.734552 121.592327 \nL 79.060596 123.840071 \nL 79.386639 122.486649 \nL 79.712683 124.121255 \nL 80.038726 123.147607 \nL 80.364769 122.873631 \nL 80.690813 122.395217 \nL 81.016856 124.105513 \nL 81.3429 123.380054 \nL 81.668943 113.31943 \nL 81.994986 123.137916 \nL 82.32103 124.513306 \nL 82.647073 121.403964 \nL 82.973117 123.952219 \nL 83.29916 124.501051 \nL 83.625203 124.621307 \nL 83.951247 125.022847 \nL 84.27729 124.185364 \nL 84.603334 119.826903 \nL 84.929377 124.970045 \nL 85.25542 123.366572 \nL 85.581464 124.156271 \nL 85.907507 123.133461 \nL 86.233551 120.915655 \nL 86.559594 124.219442 \nL 86.885638 125.782123 \nL 87.211681 126.238016 \nL 87.537724 117.837348 \nL 87.863768 125.441836 \nL 88.189811 122.463568 \nL 88.515855 122.14226 \nL 88.841898 125.781703 \nL 89.167941 124.834608 \nL 89.493985 120.13142 \nL 89.820028 126.124813 \nL 90.146072 126.019885 \nL 90.472115 118.603122 \nL 90.798158 125.115978 \nL 91.124202 126.203661 \nL 91.450245 120.083331 \nL 91.776289 124.792685 \nL 92.102332 125.989846 \nL 92.428375 120.26659 \nL 92.754419 125.827265 \nL 93.080462 123.801618 \nL 93.406506 118.798508 \nL 93.732549 125.209176 \nL 94.058592 123.870239 \nL 94.384636 124.678602 \nL 94.710679 125.967811 \nL 95.036723 125.978136 \nL 95.362766 126.154389 \nL 95.688809 123.8811 \nL 96.014853 125.736265 \nL 96.340896 122.15767 \nL 96.66694 127.187065 \nL 96.992983 127.546063 \nL 97.319027 121.531916 \nL 97.64507 125.527141 \nL 97.971113 127.174222 \nL 98.297157 117.529429 \nL 98.6232 127.629637 \nL 98.949244 125.873829 \nL 99.275287 123.322602 \nL 99.60133 126.825639 \nL 99.927374 122.769138 \nL 100.253417 126.333855 \nL 100.579461 127.294452 \nL 100.905504 124.278169 \nL 101.231547 123.6588 \nL 101.883634 125.818042 \nL 102.209678 126.028932 \nL 102.535721 127.766324 \nL 102.861764 126.913711 \nL 103.187808 127.855017 \nL 103.513851 127.780598 \nL 103.839895 126.448466 \nL 104.165938 128.336431 \nL 104.491981 127.752263 \nL 104.818025 125.149084 \nL 105.470112 127.625382 \nL 105.796155 124.417638 \nL 106.122198 124.925279 \nL 106.774285 128.399219 \nL 107.100329 128.256849 \nL 107.426372 128.783236 \nL 108.078459 128.154888 \nL 108.404502 124.167887 \nL 108.730546 127.172409 \nL 109.056589 124.590998 \nL 109.382633 127.752067 \nL 109.708676 128.658405 \nL 110.034719 128.358192 \nL 110.360763 129.010743 \nL 110.686806 127.211824 \nL 111.01285 128.670074 \nL 111.338893 122.813748 \nL 111.664936 127.6748 \nL 111.99098 129.510434 \nL 112.317023 128.160245 \nL 112.643067 129.234716 \nL 112.96911 125.944916 \nL 113.295153 127.439113 \nL 113.621197 128.291398 \nL 113.94724 127.52445 \nL 114.273284 129.118117 \nL 114.599327 125.100412 \nL 114.92537 128.839934 \nL 115.251414 128.572146 \nL 115.577457 124.745525 \nL 115.903501 129.469733 \nL 116.229544 130.917769 \nL 116.881631 126.407048 \nL 117.207674 130.032527 \nL 117.533718 128.961232 \nL 117.859761 130.506376 \nL 118.185804 125.932491 \nL 118.511848 130.335256 \nL 118.837891 126.069384 \nL 119.163935 127.89439 \nL 119.489978 129.081584 \nL 119.816021 129.636013 \nL 120.142065 128.521917 \nL 120.468108 129.746637 \nL 120.794152 130.538851 \nL 121.120195 130.506452 \nL 121.446239 131.380004 \nL 121.772282 129.52914 \nL 122.098325 129.16526 \nL 122.424369 124.625521 \nL 122.750412 131.677925 \nL 123.076456 129.712753 \nL 123.402499 132.019164 \nL 123.728542 129.891031 \nL 124.054586 131.379185 \nL 124.380629 127.446527 \nL 124.706673 130.046689 \nL 125.032716 131.181358 \nL 125.358759 128.11599 \nL 125.684803 131.062133 \nL 126.010846 132.371302 \nL 126.988976 131.294158 \nL 127.31502 130.40897 \nL 127.641063 131.268464 \nL 127.967107 128.230739 \nL 128.29315 132.24108 \nL 128.619193 131.779797 \nL 128.945237 127.733188 \nL 129.597324 132.840317 \nL 129.923367 131.363858 \nL 130.24941 127.770249 \nL 130.575454 131.82015 \nL 130.901497 132.455341 \nL 131.227541 132.16591 \nL 131.879628 131.991942 \nL 132.205671 132.641165 \nL 132.531714 132.258599 \nL 132.857758 130.878035 \nL 133.183801 132.510151 \nL 133.509845 131.380896 \nL 133.835888 132.032262 \nL 134.161931 132.986865 \nL 134.487975 130.117946 \nL 134.814018 130.540832 \nL 135.140062 132.799294 \nL 135.466105 133.048866 \nL 135.792148 127.82115 \nL 136.118192 131.530066 \nL 136.444235 131.974438 \nL 136.770279 131.360901 \nL 137.096322 131.486245 \nL 137.422365 132.353358 \nL 137.748409 126.475222 \nL 138.074452 130.429678 \nL 138.400496 132.200039 \nL 138.726539 127.291786 \nL 139.052582 129.211175 \nL 139.378626 128.503853 \nL 139.704669 132.738758 \nL 140.356756 131.269862 \nL 140.682799 131.138924 \nL 141.008843 130.190688 \nL 141.334886 126.096184 \nL 141.66093 132.817193 \nL 141.986973 131.413085 \nL 142.313016 131.486884 \nL 142.965103 133.438516 \nL 143.291147 129.743585 \nL 143.61719 131.822507 \nL 143.943234 131.310048 \nL 144.269277 133.186214 \nL 144.59532 133.386282 \nL 144.921364 129.304426 \nL 145.247407 128.547132 \nL 145.573451 132.171509 \nL 145.899494 132.941923 \nL 146.225537 132.593699 \nL 146.551581 129.205528 \nL 146.877624 132.794616 \nL 147.203668 133.802367 \nL 147.529711 133.458245 \nL 147.855754 133.785367 \nL 148.181798 131.891597 \nL 148.507841 131.199519 \nL 148.833885 133.697109 \nL 149.485971 131.60615 \nL 149.812015 129.999283 \nL 150.138058 130.085353 \nL 150.464102 133.348977 \nL 150.790145 132.787441 \nL 151.442232 133.85012 \nL 151.768275 132.900381 \nL 152.094319 127.81447 \nL 152.420362 129.523737 \nL 152.746405 132.098573 \nL 153.072449 132.829483 \nL 153.398492 133.041738 \nL 153.724536 132.210852 \nL 154.050579 133.479554 \nL 154.376622 132.519464 \nL 154.702666 131.063884 \nL 155.028709 130.730932 \nL 155.354753 132.178521 \nL 155.680796 127.902185 \nL 156.00684 132.61075 \nL 156.332883 132.031622 \nL 156.98497 133.913768 \nL 157.311013 132.208778 \nL 157.9631 132.229452 \nL 158.289143 131.483063 \nL 158.615187 134.664305 \nL 158.94123 134.172173 \nL 159.267274 134.407351 \nL 159.593317 131.974562 \nL 159.91936 133.99471 \nL 160.245404 132.273401 \nL 160.571447 131.348112 \nL 160.897491 134.261234 \nL 161.549577 129.859568 \nL 161.875621 129.240454 \nL 162.201664 130.783676 \nL 162.527708 134.116087 \nL 162.853751 132.647479 \nL 163.179794 134.821021 \nL 163.505838 128.613389 \nL 163.831881 129.013371 \nL 164.157925 133.120071 \nL 164.483968 133.326926 \nL 165.136055 134.352725 \nL 165.462098 131.142625 \nL 165.788142 132.936535 \nL 166.114185 134.053816 \nL 166.440229 130.672404 \nL 166.766272 133.063797 \nL 167.092315 129.515313 \nL 167.418359 133.610925 \nL 167.744402 133.575069 \nL 168.070446 130.247334 \nL 168.722532 133.793539 \nL 169.048576 132.094608 \nL 169.374619 131.843327 \nL 169.700663 134.337451 \nL 170.026706 133.350736 \nL 170.352749 133.976893 \nL 171.004836 133.405944 \nL 171.33088 128.21472 \nL 171.656923 134.171953 \nL 171.982966 133.774507 \nL 172.30901 132.224249 \nL 172.635053 133.267719 \nL 172.961097 131.82292 \nL 173.28714 133.071323 \nL 173.613183 133.44881 \nL 173.939227 130.308675 \nL 174.26527 130.680333 \nL 174.591314 133.996924 \nL 174.917357 132.261656 \nL 175.2434 132.84106 \nL 175.569444 133.092225 \nL 175.895487 132.588755 \nL 176.221531 133.058111 \nL 176.547574 132.127665 \nL 176.873617 132.177898 \nL 177.199661 131.833393 \nL 177.525704 130.233517 \nL 177.851748 130.690866 \nL 178.177791 132.880594 \nL 178.503835 132.537881 \nL 178.829878 134.194632 \nL 179.155921 129.500807 \nL 179.481965 131.718102 \nL 179.808008 132.435453 \nL 180.134052 132.230127 \nL 180.460095 133.780053 \nL 180.786138 132.681576 \nL 181.112182 133.430124 \nL 181.764269 128.942483 \nL 182.090312 133.049542 \nL 182.416355 133.010074 \nL 182.742399 131.690882 \nL 183.068442 133.876095 \nL 183.394486 133.432839 \nL 183.720529 128.918405 \nL 184.046572 132.690401 \nL 184.698659 133.123504 \nL 185.024703 133.361772 \nL 185.350746 132.170618 \nL 185.676789 133.751848 \nL 186.002833 132.114138 \nL 186.328876 131.812302 \nL 186.65492 128.90088 \nL 186.980963 133.472465 \nL 187.307006 130.060104 \nL 187.63305 132.620182 \nL 187.959093 133.492361 \nL 188.285137 132.110094 \nL 188.61118 133.2253 \nL 188.937223 130.72818 \nL 189.263267 133.815263 \nL 189.58931 133.522033 \nL 189.915354 132.689292 \nL 190.241397 133.757041 \nL 190.567441 129.24487 \nL 190.893484 132.792441 \nL 191.219527 132.711024 \nL 191.545571 133.161037 \nL 191.871614 134.335435 \nL 192.197658 133.625611 \nL 192.523701 133.609902 \nL 192.849744 134.063049 \nL 193.175788 130.968555 \nL 193.501831 131.438889 \nL 193.827875 132.244962 \nL 194.153918 130.19022 \nL 194.479961 130.799901 \nL 194.806005 133.304017 \nL 195.132048 133.890751 \nL 195.458092 132.301211 \nL 195.784135 131.435267 \nL 196.110178 134.363162 \nL 196.436222 127.759268 \nL 196.762265 133.155924 \nL 197.088309 134.240804 \nL 197.414352 128.349832 \nL 197.740395 132.279473 \nL 198.066439 133.864165 \nL 198.392482 132.886986 \nL 198.718526 133.161615 \nL 199.044569 131.011613 \nL 199.370612 133.533714 \nL 199.696656 134.06581 \nL 200.022699 132.905549 \nL 200.348743 131.223199 \nL 200.674786 133.114689 \nL 201.00083 133.257695 \nL 201.326873 134.167549 \nL 201.652916 134.044278 \nL 201.97896 134.411759 \nL 202.305003 133.026054 \nL 202.631047 134.294211 \nL 203.283133 133.070919 \nL 203.609177 134.621154 \nL 203.93522 130.612399 \nL 204.261264 133.952634 \nL 204.587307 130.317083 \nL 204.91335 133.700217 \nL 205.239394 133.100782 \nL 205.565437 129.557549 \nL 205.891481 131.385483 \nL 206.217524 133.904226 \nL 206.543567 132.335563 \nL 206.869611 133.237144 \nL 207.195654 132.293799 \nL 207.521698 133.812643 \nL 207.847741 134.596196 \nL 208.173784 133.239944 \nL 208.499828 131.215345 \nL 208.825871 132.574933 \nL 209.151915 133.249607 \nL 209.477958 130.993157 \nL 209.804001 133.938991 \nL 210.130045 131.99415 \nL 210.456088 133.738212 \nL 210.782132 134.102714 \nL 211.108175 133.38245 \nL 211.434218 134.322181 \nL 211.760262 131.103671 \nL 212.086305 132.95689 \nL 212.412349 133.31011 \nL 212.738392 134.290977 \nL 213.064436 134.22834 \nL 213.390479 133.913024 \nL 213.716522 129.175389 \nL 214.042566 133.734085 \nL 214.368609 134.062901 \nL 214.694653 132.832215 \nL 215.020696 134.688989 \nL 215.346739 133.595666 \nL 215.672783 135.386836 \nL 215.998826 133.624672 \nL 216.32487 129.232366 \nL 216.650913 133.782791 \nL 216.976956 131.53874 \nL 217.303 132.837177 \nL 217.629043 134.732555 \nL 217.955087 130.96235 \nL 218.28113 133.242961 \nL 218.607173 134.611224 \nL 218.933217 130.310419 \nL 219.25926 129.624473 \nL 219.585304 134.304171 \nL 219.911347 134.295463 \nL 220.23739 133.818112 \nL 220.563434 133.908494 \nL 220.889477 134.533823 \nL 221.215521 124.146932 \nL 221.541564 133.569856 \nL 221.867607 135.60446 \nL 222.193651 133.339028 \nL 222.845738 132.542965 \nL 223.171781 134.403438 \nL 223.497824 133.48188 \nL 223.823868 133.630019 \nL 224.149911 135.072582 \nL 224.801998 134.357907 \nL 225.128042 134.740898 \nL 225.454085 134.732439 \nL 225.780128 134.465505 \nL 226.106172 133.773329 \nL 226.432215 130.731027 \nL 226.758259 134.075935 \nL 227.084302 132.709966 \nL 227.410345 129.141963 \nL 227.736389 134.519081 \nL 228.062432 133.733639 \nL 228.388476 132.432944 \nL 228.714519 134.301517 \nL 229.040562 132.472228 \nL 229.366606 134.152058 \nL 229.692649 129.341427 \nL 230.018693 131.143495 \nL 230.344736 135.034678 \nL 230.670779 134.583994 \nL 230.996823 133.546467 \nL 231.322866 126.500746 \nL 231.64891 134.65384 \nL 231.974953 133.198821 \nL 232.300996 133.831202 \nL 232.62704 134.866931 \nL 232.953083 133.733852 \nL 233.279127 131.084102 \nL 233.60517 134.794864 \nL 233.931213 133.737984 \nL 234.257257 135.450731 \nL 234.5833 134.5017 \nL 234.909344 132.125769 \nL 235.235387 134.305601 \nL 235.561431 135.151124 \nL 235.887474 132.877681 \nL 236.213517 131.974493 \nL 236.865604 135.280645 \nL 237.191648 135.081545 \nL 237.843734 130.993022 \nL 238.169778 134.671714 \nL 238.495821 135.101374 \nL 238.821865 134.6513 \nL 239.147908 135.453822 \nL 239.799995 132.644369 \nL 240.126038 132.565978 \nL 240.452082 133.845618 \nL 240.778125 134.661315 \nL 240.778125 134.661315 \n\" style=\"fill:none;stroke:#bf00bf;stroke-dasharray:5.55,2.4;stroke-dashoffset:0;stroke-width:1.5;\"/>\n   </g>\n   <g id=\"patch_3\">\n    <path d=\"M 45.478125 143.1 \nL 45.478125 7.2 \n\" style=\"fill:none;stroke:#000000;stroke-linecap:square;stroke-linejoin:miter;stroke-width:0.8;\"/>\n   </g>\n   <g id=\"patch_4\">\n    <path d=\"M 240.778125 143.1 \nL 240.778125 7.2 \n\" style=\"fill:none;stroke:#000000;stroke-linecap:square;stroke-linejoin:miter;stroke-width:0.8;\"/>\n   </g>\n   <g id=\"patch_5\">\n    <path d=\"M 45.478125 143.1 \nL 240.778125 143.1 \n\" style=\"fill:none;stroke:#000000;stroke-linecap:square;stroke-linejoin:miter;stroke-width:0.8;\"/>\n   </g>\n   <g id=\"patch_6\">\n    <path d=\"M 45.478125 7.2 \nL 240.778125 7.2 \n\" style=\"fill:none;stroke:#000000;stroke-linecap:square;stroke-linejoin:miter;stroke-width:0.8;\"/>\n   </g>\n   <g id=\"legend_1\">\n    <g id=\"patch_7\">\n     <path d=\"M 177.826562 44.55625 \nL 233.778125 44.55625 \nQ 235.778125 44.55625 235.778125 42.55625 \nL 235.778125 14.2 \nQ 235.778125 12.2 233.778125 12.2 \nL 177.826562 12.2 \nQ 175.826562 12.2 175.826562 14.2 \nL 175.826562 42.55625 \nQ 175.826562 44.55625 177.826562 44.55625 \nz\n\" style=\"fill:#ffffff;opacity:0.8;stroke:#cccccc;stroke-linejoin:miter;\"/>\n    </g>\n    <g id=\"line2d_25\">\n     <path d=\"M 179.826562 20.298437 \nL 199.826562 20.298437 \n\" style=\"fill:none;stroke:#1f77b4;stroke-linecap:square;stroke-width:1.5;\"/>\n    </g>\n    <g id=\"line2d_26\"/>\n    <g id=\"text_10\">\n     <!-- train -->\n     <g transform=\"translate(207.826562 23.798437)scale(0.1 -0.1)\">\n      <defs>\n       <path d=\"M 18.3125 70.21875 \nL 18.3125 54.6875 \nL 36.8125 54.6875 \nL 36.8125 47.703125 \nL 18.3125 47.703125 \nL 18.3125 18.015625 \nQ 18.3125 11.328125 20.140625 9.421875 \nQ 21.96875 7.515625 27.59375 7.515625 \nL 36.8125 7.515625 \nL 36.8125 0 \nL 27.59375 0 \nQ 17.1875 0 13.234375 3.875 \nQ 9.28125 7.765625 9.28125 18.015625 \nL 9.28125 47.703125 \nL 2.6875 47.703125 \nL 2.6875 54.6875 \nL 9.28125 54.6875 \nL 9.28125 70.21875 \nz\n\" id=\"DejaVuSans-116\"/>\n       <path d=\"M 34.28125 27.484375 \nQ 23.390625 27.484375 19.1875 25 \nQ 14.984375 22.515625 14.984375 16.5 \nQ 14.984375 11.71875 18.140625 8.90625 \nQ 21.296875 6.109375 26.703125 6.109375 \nQ 34.1875 6.109375 38.703125 11.40625 \nQ 43.21875 16.703125 43.21875 25.484375 \nL 43.21875 27.484375 \nz\nM 52.203125 31.203125 \nL 52.203125 0 \nL 43.21875 0 \nL 43.21875 8.296875 \nQ 40.140625 3.328125 35.546875 0.953125 \nQ 30.953125 -1.421875 24.3125 -1.421875 \nQ 15.921875 -1.421875 10.953125 3.296875 \nQ 6 8.015625 6 15.921875 \nQ 6 25.140625 12.171875 29.828125 \nQ 18.359375 34.515625 30.609375 34.515625 \nL 43.21875 34.515625 \nL 43.21875 35.40625 \nQ 43.21875 41.609375 39.140625 45 \nQ 35.0625 48.390625 27.6875 48.390625 \nQ 23 48.390625 18.546875 47.265625 \nQ 14.109375 46.140625 10.015625 43.890625 \nL 10.015625 52.203125 \nQ 14.9375 54.109375 19.578125 55.046875 \nQ 24.21875 56 28.609375 56 \nQ 40.484375 56 46.34375 49.84375 \nQ 52.203125 43.703125 52.203125 31.203125 \nz\n\" id=\"DejaVuSans-97\"/>\n       <path d=\"M 9.421875 54.6875 \nL 18.40625 54.6875 \nL 18.40625 0 \nL 9.421875 0 \nz\nM 9.421875 75.984375 \nL 18.40625 75.984375 \nL 18.40625 64.59375 \nL 9.421875 64.59375 \nz\n\" id=\"DejaVuSans-105\"/>\n       <path d=\"M 54.890625 33.015625 \nL 54.890625 0 \nL 45.90625 0 \nL 45.90625 32.71875 \nQ 45.90625 40.484375 42.875 44.328125 \nQ 39.84375 48.1875 33.796875 48.1875 \nQ 26.515625 48.1875 22.3125 43.546875 \nQ 18.109375 38.921875 18.109375 30.90625 \nL 18.109375 0 \nL 9.078125 0 \nL 9.078125 54.6875 \nL 18.109375 54.6875 \nL 18.109375 46.1875 \nQ 21.34375 51.125 25.703125 53.5625 \nQ 30.078125 56 35.796875 56 \nQ 45.21875 56 50.046875 50.171875 \nQ 54.890625 44.34375 54.890625 33.015625 \nz\n\" id=\"DejaVuSans-110\"/>\n      </defs>\n      <use xlink:href=\"#DejaVuSans-116\"/>\n      <use x=\"39.208984\" xlink:href=\"#DejaVuSans-114\"/>\n      <use x=\"80.322266\" xlink:href=\"#DejaVuSans-97\"/>\n      <use x=\"141.601562\" xlink:href=\"#DejaVuSans-105\"/>\n      <use x=\"169.384766\" xlink:href=\"#DejaVuSans-110\"/>\n     </g>\n    </g>\n    <g id=\"line2d_27\">\n     <path d=\"M 179.826562 34.976562 \nL 199.826562 34.976562 \n\" style=\"fill:none;stroke:#bf00bf;stroke-dasharray:5.55,2.4;stroke-dashoffset:0;stroke-width:1.5;\"/>\n    </g>\n    <g id=\"line2d_28\"/>\n    <g id=\"text_11\">\n     <!-- valid -->\n     <g transform=\"translate(207.826562 38.476562)scale(0.1 -0.1)\">\n      <defs>\n       <path d=\"M 2.984375 54.6875 \nL 12.5 54.6875 \nL 29.59375 8.796875 \nL 46.6875 54.6875 \nL 56.203125 54.6875 \nL 35.6875 0 \nL 23.484375 0 \nz\n\" id=\"DejaVuSans-118\"/>\n       <path d=\"M 9.421875 75.984375 \nL 18.40625 75.984375 \nL 18.40625 0 \nL 9.421875 0 \nz\n\" id=\"DejaVuSans-108\"/>\n       <path d=\"M 45.40625 46.390625 \nL 45.40625 75.984375 \nL 54.390625 75.984375 \nL 54.390625 0 \nL 45.40625 0 \nL 45.40625 8.203125 \nQ 42.578125 3.328125 38.25 0.953125 \nQ 33.9375 -1.421875 27.875 -1.421875 \nQ 17.96875 -1.421875 11.734375 6.484375 \nQ 5.515625 14.40625 5.515625 27.296875 \nQ 5.515625 40.1875 11.734375 48.09375 \nQ 17.96875 56 27.875 56 \nQ 33.9375 56 38.25 53.625 \nQ 42.578125 51.265625 45.40625 46.390625 \nz\nM 14.796875 27.296875 \nQ 14.796875 17.390625 18.875 11.75 \nQ 22.953125 6.109375 30.078125 6.109375 \nQ 37.203125 6.109375 41.296875 11.75 \nQ 45.40625 17.390625 45.40625 27.296875 \nQ 45.40625 37.203125 41.296875 42.84375 \nQ 37.203125 48.484375 30.078125 48.484375 \nQ 22.953125 48.484375 18.875 42.84375 \nQ 14.796875 37.203125 14.796875 27.296875 \nz\n\" id=\"DejaVuSans-100\"/>\n      </defs>\n      <use xlink:href=\"#DejaVuSans-118\"/>\n      <use x=\"59.179688\" xlink:href=\"#DejaVuSans-97\"/>\n      <use x=\"120.458984\" xlink:href=\"#DejaVuSans-108\"/>\n      <use x=\"148.242188\" xlink:href=\"#DejaVuSans-105\"/>\n      <use x=\"176.025391\" xlink:href=\"#DejaVuSans-100\"/>\n     </g>\n    </g>\n   </g>\n  </g>\n </g>\n <defs>\n  <clipPath id=\"pe1ff3fc196\">\n   <rect height=\"135.9\" width=\"195.3\" x=\"45.478125\" y=\"7.2\"/>\n  </clipPath>\n </defs>\n</svg>\n",
      "text/plain": [
       "<Figure size 252x180 with 1 Axes>"
      ]
     },
     "metadata": {
      "needs_background": "light"
     },
     "output_type": "display_data"
    }
   ],
   "source": [
    "# train linear model\n",
    "k, num_epochs, lr, weight_decay, batch_size = 5, 600, 0.01, 0, 64 # adjust hyperparameter\n",
    "train_l, valid_l = k_fold(k, train_attributes, train_labels_linear, num_epochs, lr,\n",
    "                          weight_decay, batch_size)\n",
    "print(f'{k}-fold cross-validation: average train log rmse: {float(train_l):f}, '\n",
    "      f'average test log rmse: {float(valid_l):f}')"
   ]
  },
  {
   "cell_type": "code",
   "execution_count": 90,
   "id": "1cc0fcae",
   "metadata": {},
   "outputs": [],
   "source": [
    "# predict linear model\n",
    "submission, train_ls = train_and_pred(train_attributes, test_attributes, train_labels_linear, test_data,\n",
    "               num_epochs, lr, weight_decay, batch_size)\n",
    "score = self_evaluation(submission)\n",
    "submission.to_csv('results/submission_linear_rmsle'+str(float(train_ls[-1]))[:6]+'.csv', index=False)"
   ]
  },
  {
   "cell_type": "code",
   "execution_count": 20,
   "id": "4bdeea20",
   "metadata": {},
   "outputs": [],
   "source": [
    "# Define error metrics\n",
    "def rmse(y, y_pred):\n",
    "    return np.sqrt(mean_squared_error(y, y_pred))\n",
    "\n",
    "# k-fold Cross Validation\n",
    "# set verbose=3 for more details\n",
    "def rmsle_cross_val(X_train, y_train, n_folds, model):\n",
    "    kf = KFold(n_folds, shuffle=True, random_state=42).get_n_splits(X_train.values)\n",
    "    rmse= np.sqrt(-cross_val_score(model, X_train.values, y_train, scoring=\"neg_mean_squared_error\", cv = kf))\n",
    "    return rmse\n",
    "\n",
    "kfolds = KFold(n_splits=5, shuffle=True, random_state=42)"
   ]
  },
  {
   "cell_type": "code",
   "execution_count": 21,
   "id": "a38839e0",
   "metadata": {},
   "outputs": [
    {
     "name": "stdout",
     "output_type": "stream",
     "text": [
      "Lasso score: 1897289.2911 (112774.1932)\n",
      "\n"
     ]
    }
   ],
   "source": [
    "# *******************Lasso model*******************\n",
    "# lasso_alphas = [0.00001, 0.00005, 0.0001, 0.0002, 0.0003, 0.0004, 0.0005]\n",
    "# model_lasso = make_pipeline(RobustScaler(), LassoCV(max_iter=1000,alphas =lasso_alphas, random_state=42, cv=kfolds))\n",
    "# model_lasso = make_pipeline(RobustScaler(), Lasso(max_iter=1000, alpha =0.00005, random_state=42))\n",
    "model_lasso = Lasso(max_iter=1000, alpha =0.00005, tol=0.1, random_state=42)\n",
    "score_lasso = rmsle_cross_val(train_data_linear, train_labels, 5, model_lasso)\n",
    "print(\"Lasso score: {:.4f} ({:.4f})\\n\".format(score_lasso.mean(), score_lasso.std()))\n",
    "model_lasso.fit(train_data_linear.values, train_labels.values)\n",
    "model_lasso_pred = model_lasso.predict(test_data_linear.values)\n",
    "df_id = pd.DataFrame([id for id in range(test_data.shape[0])], columns=['Id'])\n",
    "df_pred = pd.DataFrame(pd.Series(model_lasso_pred), columns = ['Predicted'])\n",
    "model_lasso_pred, df_pred['Predicted']\n",
    "submission = pd.concat([df_id['Id'], df_pred['Predicted']], axis=1)\n",
    "# self_evaluation(submission)\n",
    "submission.to_csv('results/submission_lasso_rmse'+str(float(score_lasso.mean()))[:7]+'.csv', index=False)"
   ]
  },
  {
   "cell_type": "code",
   "execution_count": 22,
   "id": "95183d5b",
   "metadata": {},
   "outputs": [
    {
     "name": "stdout",
     "output_type": "stream",
     "text": [
      "ElasticNet score: 1960749.5433 (103860.5133)\n",
      "\n"
     ]
    }
   ],
   "source": [
    "# *******************ENet model*******************\n",
    "# enet_alphas = [0.0001, 0.0002, 0.0003, 0.0004, 0.0005, 0.0006, 0.0007]\n",
    "# enet_l1ratio = [0.8, 0.85, 0.9, 0.95, 0.99, 1]\n",
    "model_ENet = make_pipeline(RobustScaler(), ElasticNet(max_iter=3000, alpha=0.0005, l1_ratio=0.8, tol=0.2, random_state=42))\n",
    "score_ENet = rmsle_cross_val(train_data_linear, train_labels, 5, model_ENet)\n",
    "print(\"ElasticNet score: {:.4f} ({:.4f})\\n\".format(score_ENet.mean(), score_ENet.std()))\n",
    "model_ENet.fit(train_data_linear.values, train_labels.values)\n",
    "model_ENet_pred = model_ENet.predict(test_data_linear.values)\n",
    "df_id = pd.DataFrame([id for id in range(test_data.shape[0])], columns=['Id'])\n",
    "df_pred = pd.DataFrame(pd.Series(model_ENet_pred), columns = ['Predicted'])\n",
    "submission = pd.concat([df_id['Id'], df_pred['Predicted']], axis=1)\n",
    "# self_evaluation(submission)\n",
    "submission.to_csv('results/submission_enet_rmse'+str(float(score_ENet.mean()))[:7]+'.csv', index=False)"
   ]
  },
  {
   "cell_type": "code",
   "execution_count": 23,
   "id": "86473654",
   "metadata": {},
   "outputs": [
    {
     "name": "stdout",
     "output_type": "stream",
     "text": [
      "Ridge score: 1896292.6282 (116982.2560)\n",
      "\n"
     ]
    }
   ],
   "source": [
    "# *******************Ridge model*******************\n",
    "ridge_alphas = [1e-2, 0.1, 0.3, 1, 3, 5, 10, 15, 18, 20, 30, 50, 75, 100]\n",
    "model_ridge = make_pipeline(RobustScaler(), RidgeCV(alphas=ridge_alphas, cv=kfolds))\n",
    "# model_ridge = make_pipeline(RobustScaler(), Ridge(max_iter=1000, alpha=0.1))\n",
    "score_ridge = rmsle_cross_val(train_data_linear, train_labels, 5, model_ridge)\n",
    "print(\"Ridge score: {:.4f} ({:.4f})\\n\".format(score_ridge.mean(), score_ridge.std()))\n",
    "model_ridge.fit(train_data_linear.values, train_labels.values)\n",
    "model_ridge_pred = model_ENet.predict(test_data_linear.values)\n",
    "df_id = pd.DataFrame([id for id in range(test_data.shape[0])], columns=['Id'])\n",
    "df_pred = pd.DataFrame(pd.Series(model_ridge_pred), columns = ['Predicted'])\n",
    "submission = pd.concat([df_id['Id'], df_pred['Predicted']], axis=1)\n",
    "# self_evaluation(submission)\n",
    "submission.to_csv('results/submission_ridge_rmse'+str(float(score_ridge.mean()))[:7]+'.csv', index=False)"
   ]
  },
  {
   "cell_type": "code",
   "execution_count": 24,
   "id": "74e9a2c2",
   "metadata": {},
   "outputs": [
    {
     "name": "stdout",
     "output_type": "stream",
     "text": [
      "SVR score: 0.1084 (0.0047)\n",
      "\n"
     ]
    }
   ],
   "source": [
    "# *******************SVR model*******************\n",
    "# C = [0.1, 0.5, 1, 50, 100, 1000]\n",
    "# epsilon = [0.0001, 0.0005, 0.001, 0.005, 0.01, 0.05, 0.1, 0.5, 1, 5, 10]\n",
    "# C:5 - 0.1163 (0.0032), C:10 - 0.1140 (0.0034), epsilon: 0.05 - 0.1105 (0.0039)\n",
    "model_svr = make_pipeline(RobustScaler(), SVR(C=10, epsilon=0.05, gamma='scale'))\n",
    "score_svr = rmsle_cross_val(train_data_linear, np.log(train_labels), 5, model_svr)\n",
    "print(\"SVR score: {:.4f} ({:.4f})\\n\".format(score_svr.mean(), score_svr.std()))\n",
    "\n",
    "model_svr.fit(train_data_linear.values, np.log(train_labels.values))\n",
    "model_svr_pred = model_svr.predict(test_data_linear.values)\n",
    "df_id = pd.DataFrame([id for id in range(test_data.shape[0])], columns=['Id'])\n",
    "df_pred = pd.DataFrame(pd.Series(np.exp(model_svr_pred)), columns = ['Predicted'])\n",
    "submission = pd.concat([df_id['Id'], df_pred['Predicted']], axis=1)\n",
    "# self_evaluation(submission)\n",
    "submission.to_csv('results/submission_svr_rmsle'+str(float(score_svr.mean()))[:7]+'.csv', index=False)"
   ]
  },
  {
   "cell_type": "code",
   "execution_count": 25,
   "id": "f4962fca",
   "metadata": {},
   "outputs": [
    {
     "data": {
      "text/plain": [
       "((25714, 24), (7500, 24))"
      ]
     },
     "execution_count": 25,
     "metadata": {},
     "output_type": "execute_result"
    }
   ],
   "source": [
    "# init train data and test data for non-linear model\n",
    "all_data_ensemble = all_data.copy()\n",
    "all_data_ensemble = all_data_ensemble.drop(columns=['name','street'])\n",
    "train_data_ensemble = all_data_ensemble[:train_len]\n",
    "test_data_ensemble = all_data_ensemble[train_len:]\n",
    "train_data_ensemble.shape, test_data_ensemble.shape"
   ]
  },
  {
   "cell_type": "code",
   "execution_count": 30,
   "id": "f7a2feee",
   "metadata": {},
   "outputs": [
    {
     "name": "stdout",
     "output_type": "stream",
     "text": [
      "oob: 0.9764868974915827 {'max_depth': 35, 'max_features': 0.5, 'min_samples_leaf': 1, 'min_samples_split': 2, 'n_estimators': 1300}\n"
     ]
    }
   ],
   "source": [
    "# *******************Random Forest model*******************\n",
    "# use grid search to produce a baseline rf model\n",
    "model_rf = RandomForestRegressor(oob_score=True, random_state=3, n_jobs=-1)\n",
    "params ={\n",
    "    'n_estimators': [1300],# [800, 900, 1000, 1200, 1500],\n",
    "    'min_samples_leaf': [1],# [1, 2, 3, 5, 10, 25],\n",
    "    'max_features': [0.5],# [None, 0.5, 'sqrt', 'log2'],\n",
    "    'max_depth': [35],# [5, 6, 7, 8, 10, 15, 20],\n",
    "    'min_samples_split': [2]# [2, 3, 4]\n",
    "}\n",
    "\n",
    "best_score = 0\n",
    "for g in ParameterGrid(params):\n",
    "    model_rf.set_params(**g)\n",
    "    model_rf.fit(train_data_ensemble, train_labels)\n",
    "    if model_rf.oob_score_ > best_score:\n",
    "        best_score = model_rf.oob_score_\n",
    "        best_grid = g\n",
    "        print('oob:', best_score, best_grid)\n",
    "# oob: 0.9764868974915827 {'max_depth': 35, 'max_features': 0.5, 'min_samples_leaf': 1, 'min_samples_split': 2, 'n_estimators': 1300}"
   ]
  },
  {
   "cell_type": "code",
   "execution_count": 31,
   "id": "1cc57f98",
   "metadata": {},
   "outputs": [
    {
     "name": "stdout",
     "output_type": "stream",
     "text": [
      "0.9762910106508067\n",
      "                           cols       imp\n",
      "9                     area_size  0.642051\n",
      "1                     bathrooms  0.123987\n",
      "11                shopping_0to2  0.043892\n",
      "0                      bedrooms  0.038863\n",
      "4                      subszone  0.026233\n",
      "5                           lat  0.025676\n",
      "13                   train_0to3  0.015375\n",
      "8                   no_of_units  0.013706\n",
      "7                    built_year  0.011856\n",
      "2                      district  0.011513\n",
      "14               bed_bath_ratio  0.011182\n",
      "12                  hawker_0to3  0.009119\n",
      "10          primary_school_0to1  0.008942\n",
      "19        region_central region  0.007707\n",
      "3                 planning_area  0.005637\n",
      "6                        tenure  0.001649\n",
      "15              model_apartment  0.001168\n",
      "16            model_condominium  0.001145\n",
      "23           region_west region  0.000119\n",
      "20           region_east region  0.000104\n",
      "18            model_walk-up apt  0.000035\n",
      "22     region_north-east region  0.000030\n",
      "17  model_executive condominium  0.000011\n",
      "21          region_north region  0.000003\n"
     ]
    }
   ],
   "source": [
    "# check feature importance\n",
    "def RF_importance(m, df):\n",
    "    return pd.DataFrame({'cols':df.columns, 'imp':m.feature_importances_}).sort_values('imp', ascending=False)\n",
    "\n",
    "model_rf = RandomForestRegressor(n_jobs=-1, n_estimators=1300, oob_score=True, max_depth=35, min_samples_leaf=1, min_samples_split=2, max_features=0.5)\n",
    "model_rf.fit(train_data_ensemble, train_labels)\n",
    "feature_imp = RF_importance(model_rf, train_data_ensemble)\n",
    "print(model_rf.oob_score_)\n",
    "print(feature_imp)"
   ]
  },
  {
   "cell_type": "code",
   "execution_count": 33,
   "id": "71a4af35",
   "metadata": {},
   "outputs": [
    {
     "name": "stdout",
     "output_type": "stream",
     "text": [
      "['area_size', 'bathrooms', 'shopping_0to2', 'bedrooms', 'subszone', 'lat', 'train_0to3', 'no_of_units', 'built_year', 'district', 'bed_bath_ratio', 'hawker_0to3', 'primary_school_0to1', 'region_central region', 'planning_area', 'tenure', 'model_apartment', 'model_condominium']\n",
      "0.9760825088344165 723405.3390714184\n"
     ]
    }
   ],
   "source": [
    "# feature selection\n",
    "Threshold = 0.0009\n",
    "to_keep = feature_imp[feature_imp.imp>Threshold].cols\n",
    "to_keep = [col for _, col in to_keep.items()]\n",
    "print(to_keep)\n",
    "df_keep = train_data_ensemble[to_keep].copy()\n",
    "model_rf = RandomForestRegressor(n_jobs=-1, n_estimators=1300, oob_score=True, max_depth=35, min_samples_leaf=1, min_samples_split=2, max_features=0.5)\n",
    "model_rf.fit(df_keep, train_labels)\n",
    "score_rf = rmsle_cross_val(train_data_ensemble, train_labels, 5, model_rf)\n",
    "print(model_rf.oob_score_, score_rf.mean())"
   ]
  },
  {
   "cell_type": "code",
   "execution_count": 35,
   "id": "cbf0f5c4",
   "metadata": {},
   "outputs": [
    {
     "data": {
      "text/plain": [
       "[(0.9764162666650514, 'region_central region'),\n",
       " (0.976315851620543, 'model_apartment'),\n",
       " (0.9762884494460968, 'planning_area'),\n",
       " (0.975959941369601, 'tenure'),\n",
       " (0.975899725118432, 'model_condominium')]"
      ]
     },
     "execution_count": 35,
     "metadata": {},
     "output_type": "execute_result"
    }
   ],
   "source": [
    "# deep selection\n",
    "# keep_cols imp >= 0.01\n",
    "keep_cols = ['area_size', 'bathrooms', 'shopping_0to2', 'bedrooms', 'subszone', 'lat', 'train_0to3', \n",
    "             'no_of_units', 'built_year', 'district', 'bed_bath_ratio', 'primary_school_0to1', 'hawker_0to3']\n",
    "cols = to_keep\n",
    "scores = []\n",
    "feats = []\n",
    "for col in cols:\n",
    "    tmp = to_keep.copy()\n",
    "    if col in keep_cols:\n",
    "        continue\n",
    "    tmp.remove(col)\n",
    "    df_tmp = train_data_ensemble[tmp].copy()\n",
    "    model_rf = RandomForestRegressor(n_jobs=-1, n_estimators=1300, oob_score=True, max_depth=35, min_samples_leaf=1, min_samples_split=2, max_features=0.5)\n",
    "    model_rf.fit(df_tmp, train_labels)\n",
    "    scores.append(model_rf.oob_score_)\n",
    "    feats.append(col)\n",
    "\n",
    "to_del = sorted(zip(scores, feats), reverse=True)\n",
    "to_del"
   ]
  },
  {
   "cell_type": "code",
   "execution_count": 37,
   "id": "feffd514",
   "metadata": {},
   "outputs": [
    {
     "name": "stdout",
     "output_type": "stream",
     "text": [
      "best oob: 0.9764437583184912 {'max_depth': 35, 'max_features': 0.5, 'min_samples_leaf': 1, 'min_samples_split': 2, 'n_estimators': 1200} score: 714747.7621518585\n",
      "best oob: 0.9764479898419359 {'max_depth': 35, 'max_features': 0.5, 'min_samples_leaf': 1, 'min_samples_split': 2, 'n_estimators': 1250} score: 719626.166418285\n"
     ]
    }
   ],
   "source": [
    "# fine-tuning\n",
    "# delete increase less than 0.0001\n",
    "to_keep_final = ['area_size', 'bathrooms', 'shopping_0to2', 'bedrooms', 'subszone', 'lat', 'train_0to3', \n",
    "                 'no_of_units', 'built_year', 'district', 'bed_bath_ratio', 'primary_school_0to1', 'hawker_0to3',\n",
    "                 'model_condominium', 'tenure']\n",
    "train_data_final = train_data_ensemble[to_keep_final].copy()\n",
    "model_rf = RandomForestRegressor(oob_score=True, n_jobs=-1)\n",
    "params ={\n",
    "    'n_estimators': [1200, 1250,1280],# [1200, 1250, 1280, 1300, 1350, 1400],\n",
    "    'min_samples_leaf': [1],# [1, 2, 3, 5, 10, 25],\n",
    "    'max_features': [0.5],# [0.5, 'sqrt', 'log2'],\n",
    "    'max_depth': [35],# [5, 6, 7, 8],\n",
    "    'min_samples_split': [2]# [2, 3, 4]\n",
    "}\n",
    "\n",
    "best_score = 0\n",
    "for g in ParameterGrid(params):\n",
    "    model_rf.set_params(**g)\n",
    "    model_rf.fit(train_data_final, train_labels)\n",
    "    if model_rf.oob_score_ > best_score:\n",
    "        score_rf = rmsle_cross_val(train_data_final, train_labels, 5, model_rf)\n",
    "        best_score = model_rf.oob_score_\n",
    "        best_grid = g\n",
    "        print('best oob:', best_score, best_grid, 'score:', score_rf.mean())"
   ]
  },
  {
   "cell_type": "code",
   "execution_count": 38,
   "id": "09320f0a",
   "metadata": {},
   "outputs": [
    {
     "name": "stdout",
     "output_type": "stream",
     "text": [
      "score-0305:  320697.80248163815\n",
      "score-0228:  390377.5042031351\n",
      "score-0326:  375300.37141234515\n",
      "score-best:  139608.04054716154\n"
     ]
    }
   ],
   "source": [
    "model_rf = RandomForestRegressor(n_jobs=-1, n_estimators=1250, max_depth=35, min_samples_leaf=1, min_samples_split=2, max_features=0.5)\n",
    "model_rf.fit(train_data_final, train_labels)\n",
    "test_data_final = test_data_ensemble[to_keep_final]\n",
    "model_rf_pred=model_rf.predict(test_data_final)\n",
    "df_id = pd.DataFrame([id for id in range(test_data.shape[0])], columns=['Id'])\n",
    "df_pred = pd.DataFrame(pd.Series(model_rf_pred), columns = ['Predicted'])\n",
    "submission = pd.concat([df_id['Id'], df_pred['Predicted']], axis=1)\n",
    "self_evaluation(submission)\n",
    "submission.to_csv('results/submission_rf_'+str(best_score)[:7]+'.csv', index=False)"
   ]
  },
  {
   "cell_type": "code",
   "execution_count": 40,
   "id": "30d543c9",
   "metadata": {},
   "outputs": [
    {
     "name": "stdout",
     "output_type": "stream",
     "text": [
      "GradientBoostingRegressor score: 0.0899 (0.0049)\n",
      "\n",
      "score-0305:  372020.9971563928\n",
      "score-0228:  427348.02561755944\n",
      "score-0326:  397547.2657544148\n",
      "score-best:  359746.89476228185\n"
     ]
    }
   ],
   "source": [
    "# *******************GBoost model*******************\n",
    "model_GBoost = GradientBoostingRegressor(n_estimators=7000, learning_rate=0.1,\n",
    "                                   max_depth=5, max_features='sqrt',\n",
    "                                   min_samples_leaf=15, min_samples_split=10, \n",
    "                                   loss='huber', random_state =42)\n",
    "score_GBoost = rmsle_cross_val(train_data_ensemble, np.log(train_labels), 5, model_GBoost)\n",
    "print(\"GradientBoostingRegressor score: {:.4f} ({:.4f})\\n\".format(score_GBoost.mean(), score_GBoost.std()))\n",
    "\n",
    "model_GBoost.fit(train_data_ensemble.values, train_labels.values)\n",
    "model_gb_pred = model_GBoost.predict(test_data_ensemble.values)\n",
    "df_id = pd.DataFrame([id for id in range(test_data.shape[0])], columns=['Id'])\n",
    "df_pred = pd.DataFrame(pd.Series(model_gb_pred), columns = ['Predicted'])\n",
    "submission = pd.concat([df_id['Id'], df_pred['Predicted']], axis=1)\n",
    "self_evaluation(submission)\n",
    "submission.to_csv('results/submission_gb_rmsle'+str(float(score_GBoost.mean()))[:7]+'.csv', index=False)"
   ]
  },
  {
   "cell_type": "code",
   "execution_count": 43,
   "id": "23ad1e22",
   "metadata": {},
   "outputs": [
    {
     "name": "stdout",
     "output_type": "stream",
     "text": [
      "XGB score: 0.0937 (0.0045)\n",
      "\n",
      "score-0305:  350449.7187959784\n",
      "score-0228:  389152.8269360083\n",
      "score-0326:  374759.86820148054\n",
      "score-best:  359316.1284309187\n"
     ]
    }
   ],
   "source": [
    "# *******************XGB model*******************\n",
    "# xgb_params = dict(\n",
    "#     max_depth=6,           # maximum depth of each tree - try 2 to 10\n",
    "#     learning_rate=0.01,    # effect of each tree - try 0.0001 to 0.1\n",
    "#     n_estimators=1000,     # number of trees (that is, boosting rounds) - try 1000 to 8000\n",
    "#     min_child_weight=1,    # minimum number of houses in a leaf - try 1 to 10\n",
    "#     colsample_bytree=0.7,  # fraction of features (columns) per tree - try 0.2 to 1.0\n",
    "#     subsample=0.7,         # fraction of instances (rows) per tree - try 0.2 to 1.0\n",
    "#     reg_alpha=0.5,         # L1 regularization (like LASSO) - try 0.0 to 10.0\n",
    "#     reg_lambda=1.0,        # L2 regularization (like Ridge) - try 0.0 to 10.0\n",
    "#     num_parallel_tree=1,   # set > 1 for boosted random forests\n",
    "# )\n",
    "model_xgb = xgb.XGBRegressor(learning_rate=0.01, gamma=0,\n",
    "                             max_depth=5, min_child_weight = 1,\n",
    "                             n_estimators=6000, colsample_bytree=0.6,\n",
    "                             reg_alpha=0.5, reg_lambda=1.0,\n",
    "                             subsample=0.7, random_state = 42, nthread = -1)\n",
    "score_xgb = rmsle_cross_val(train_data_ensemble, np.log(train_labels), 5, model_xgb)\n",
    "print(\"XGB score: {:.4f} ({:.4f})\\n\".format(score_xgb.mean(), score_xgb.std()))\n",
    "\n",
    "model_xgb.fit(train_data_ensemble.values, train_labels.values)\n",
    "model_xgb_pred = model_xgb.predict(test_data_ensemble.values)\n",
    "df_id = pd.DataFrame([id for id in range(test_data.shape[0])], columns=['Id'])\n",
    "df_pred = pd.DataFrame(pd.Series(model_xgb_pred), columns = ['Predicted'])\n",
    "submission = pd.concat([df_id['Id'], df_pred['Predicted']], axis=1)\n",
    "self_evaluation(submission)\n",
    "submission.to_csv('results/submission_xgb_rmsle'+str(float(score_xgb.mean()))[:7]+'.csv', index=False)"
   ]
  },
  {
   "cell_type": "code",
   "execution_count": 58,
   "id": "d457b0ed",
   "metadata": {},
   "outputs": [
    {
     "name": "stdout",
     "output_type": "stream",
     "text": [
      "LGB score: 0.0945 (0.0042)\n",
      "\n",
      "score-0305:  345722.1850253656\n",
      "score-0228:  409784.4109252725\n",
      "score-0326:  348964.5992223786\n",
      "score-best:  393101.3738851027\n"
     ]
    }
   ],
   "source": [
    "# *******************LightGBM model*******************\n",
    "# Use large max_bin (may be slower)\n",
    "# Use small learning_rate with large num_iterations\n",
    "# Use large num_leaves (may cause over-fitting)\n",
    "model_lgb = lgb.LGBMRegressor(objective='regression', \n",
    "                       num_leaves=25, learning_rate=0.05, \n",
    "                       max_bin = 200, n_estimators=1000,\n",
    "                       random_state=42)\n",
    "score_lgb = rmsle_cross_val(train_data_ensemble, np.log(train_labels), 5, model_lgb)\n",
    "print(\"LGB score: {:.4f} ({:.4f})\\n\".format(score_lgb.mean(), score_lgb.std()))\n",
    "\n",
    "model_lgb.fit(train_data_ensemble.values, train_labels.values)\n",
    "model_lgb_pred = model_lgb.predict(test_data_ensemble.values)\n",
    "df_id = pd.DataFrame([id for id in range(test_data.shape[0])], columns=['Id'])\n",
    "df_pred = pd.DataFrame(pd.Series(model_lgb_pred), columns = ['Predicted'])\n",
    "submission = pd.concat([df_id['Id'], df_pred['Predicted']], axis=1)\n",
    "self_evaluation(submission)\n",
    "submission.to_csv('results/submission_lgb_rmsle'+str(float(score_lgb.mean()))[:7]+'.csv', index=False)"
   ]
  },
  {
   "cell_type": "code",
   "execution_count": 57,
   "id": "81a9e253",
   "metadata": {},
   "outputs": [
    {
     "data": {
      "text/plain": [
       "RandomForestRegressor(max_depth=35, max_features=0.5, n_estimators=1250,\n",
       "                      n_jobs=-1, oob_score=True)"
      ]
     },
     "execution_count": 57,
     "metadata": {},
     "output_type": "execute_result"
    }
   ],
   "source": [
    "# *******************RF model*******************\n",
    "model_RF = RandomForestRegressor(n_jobs=-1, n_estimators=1250, oob_score=True, max_depth=35, min_samples_leaf=1, min_samples_split=2, max_features=0.5)\n",
    "model_RF.fit(train_data_ensemble.values, train_labels.values)"
   ]
  },
  {
   "cell_type": "code",
   "execution_count": 59,
   "id": "edcfcc23",
   "metadata": {},
   "outputs": [
    {
     "name": "stdout",
     "output_type": "stream",
     "text": [
      "Stacked score: 0.0897 (0.0052)\n",
      "\n",
      "score-0305:  333924.8970440155\n",
      "score-0228:  393282.2414623713\n",
      "score-0326:  366896.7549917645\n",
      "score-best:  307944.7063187514\n"
     ]
    }
   ],
   "source": [
    "# *******************Stacking model*******************\n",
    "model_stack = StackingCVRegressor(regressors=(model_GBoost, model_xgb, model_lgb),\n",
    "                                meta_regressor=model_rf,\n",
    "                                use_features_in_secondary=True)\n",
    "score_stack = rmsle_cross_val(train_data_ensemble, np.log(train_labels), 5, model_stack)\n",
    "print(\"Stacked score: {:.4f} ({:.4f})\\n\".format(score_stack.mean(), score_stack.std()))\n",
    "# fitting stacked model\n",
    "model_stack.fit(train_data_ensemble.values, train_labels.values)\n",
    "model_stack_pred = model_stack.predict(test_data_ensemble.values)\n",
    "df_id = pd.DataFrame([id for id in range(test_data.shape[0])], columns=['Id'])\n",
    "df_pred = pd.DataFrame(pd.Series(model_stack_pred), columns = ['Predicted'])\n",
    "submission = pd.concat([df_id['Id'], df_pred['Predicted']], axis=1)\n",
    "self_evaluation(submission)\n",
    "submission.to_csv('results/submission_stacked_rmsle'+str(float(score_stack.mean()))[:7]+'.csv', index=False)"
   ]
  },
  {
   "cell_type": "code",
   "execution_count": 74,
   "id": "3a90772e",
   "metadata": {},
   "outputs": [
    {
     "name": "stdout",
     "output_type": "stream",
     "text": [
      "0.05588359212076447\n"
     ]
    }
   ],
   "source": [
    "# *******************Blend models/Weighting*******************\n",
    "def blended_predictions(X):\n",
    "    return ((0.05 * model_GBoost.predict(X)) + \\\n",
    "            (0.1 * model_xgb.predict(X)) + \\\n",
    "            (0.1 * model_lgb.predict(X)) + \\\n",
    "            (0.55 * model_RF.predict(X)) + \\\n",
    "            (0.2 * model_stack.predict(X)))\n",
    "\n",
    "model_blend_pred = blended_predictions(train_data_ensemble.values)\n",
    "score_blend = rmse(np.log(train_labels.values), np.log(model_blend_pred))\n",
    "print(score_blend)"
   ]
  },
  {
   "cell_type": "code",
   "execution_count": 76,
   "id": "01f619be",
   "metadata": {},
   "outputs": [
    {
     "name": "stdout",
     "output_type": "stream",
     "text": [
      "score-0305:  275060.0034416316\n",
      "score-0228:  352031.2678572532\n",
      "score-0326:  321671.80814756406\n",
      "score-best:  174809.10690779946\n"
     ]
    },
    {
     "data": {
      "text/plain": [
       "275060.0034416316"
      ]
     },
     "execution_count": 76,
     "metadata": {},
     "output_type": "execute_result"
    }
   ],
   "source": [
    "model_blended_pred = blended_predictions(test_data_ensemble.values)\n",
    "df_id = pd.DataFrame([id for id in range(test_data.shape[0])], columns=['Id'])\n",
    "df_pred = pd.DataFrame(pd.Series(model_blended_pred), columns = ['Predicted'])\n",
    "submission = pd.concat([df_id['Id'], df_pred['Predicted']], axis=1)\n",
    "self_evaluation(submission)\n",
    "submission.to_csv('results/submission_blended_rmsle'+str(score_blend)[:7]+'.csv', index=False)"
   ]
  }
 ],
 "metadata": {
  "kernelspec": {
   "display_name": "Python 3 (ipykernel)",
   "language": "python",
   "name": "python3"
  },
  "language_info": {
   "codemirror_mode": {
    "name": "ipython",
    "version": 3
   },
   "file_extension": ".py",
   "mimetype": "text/x-python",
   "name": "python",
   "nbconvert_exporter": "python",
   "pygments_lexer": "ipython3",
   "version": "3.8.12"
  }
 },
 "nbformat": 4,
 "nbformat_minor": 5
}
